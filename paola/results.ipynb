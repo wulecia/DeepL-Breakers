{
 "cells": [
  {
   "cell_type": "markdown",
   "id": "0f31edbe-ee90-4eb1-bc75-8c0d3e289956",
   "metadata": {},
   "source": [
    "# Features choice 1\n",
    "\n",
    "numerical_cols = ['sentiment', 'respect', 'insult', 'humiliate', 'status', 'violence',\n",
    "                  'dehumanize', 'genocide', 'attack_defend', 'hatespeech']\n",
    "binary_cols = ['target_race', 'target_religion', 'target_origin', 'target_gender',\n",
    "               'target_sexuality', 'target_age', 'target_disability']"
   ]
  },
  {
   "cell_type": "markdown",
   "id": "cc5c7434-0eef-4f07-9a24-e060e21ac897",
   "metadata": {},
   "source": [
    "# RESULTS\n",
    "\n",
    "\n",
    "model : bert_multitask_alldata_1epoch.pt\n",
    "\n",
    "for all data, 1 epoch :  \n",
    "🔢 Regression (Numerical labels):  \n",
    "• R² Score: 0.5346028208732605  \n",
    "• MSE: 0.6892206072807312  \n",
    "\n",
    "\n",
    "⚖️ Classification (Binary labels):  \n",
    "• Accuracy: 0.6778179403953969  \n",
    "• F1 Macro: 0.676479910980433  \n",
    "• F1 Micro: 0.8029185651431882"
   ]
  },
  {
   "cell_type": "markdown",
   "id": "9ebb5856-169e-4a47-a620-312e08835d3e",
   "metadata": {},
   "source": [
    " Epoch 3: Train Loss = 0.7574, Val Loss = 0.8057  during cross validation\n",
    "💾 Saved checkpoint at epoch 3  \n",
    "\n",
    " Final Evaluation on TEST set:  \n",
    "\n",
    "📊 Regression (Numerical):  \n",
    "• R² Score: 0.5593  \n",
    "• MSE: 0.6554  \n",
    "\n",
    "⚖️ Classification (Binary):  \n",
    "• Accuracy: 0.6826  \n",
    "• F1 Macro: 0.7276  \n",
    "• F1 Micro: 0.8137  "
   ]
  },
  {
   "cell_type": "markdown",
   "id": "eab37fe6-62b1-46d6-b1ea-60c8981bf0e9",
   "metadata": {},
   "source": [
    "# Features choice 2 :\n",
    "\n",
    "numerical_cols = ['sentiment', 'respect', 'insult', 'humiliate', 'status',  \n",
    "                  'dehumanize', 'attack_defend', 'hatespeech']  \n",
    "binary_cols = ['target_race', 'target_religion', 'target_origin', 'target_gender',  \n",
    "               'target_sexuality']"
   ]
  },
  {
   "cell_type": "markdown",
   "id": "6d9567c1-6f3e-4a9a-8212-9c5bcdac44bd",
   "metadata": {},
   "source": [
    "all data, epoch 1 :  \n",
    "train : 1 ; val : 0.8\n",
    "\n",
    "Final Evaluation on TEST set:  \n",
    "\n",
    "\n",
    "📊 Regression (Numerical):  \n",
    "• R² Score: 0.5252  \n",
    "• MSE: 0.6946  \n",
    "\n",
    "\n",
    "⚖️ Classification (Binary):  \n",
    "• Accuracy: 0.6939  \n",
    "• F1 Macro: 0.8070  \n",
    "• F1 Micro: 0.8167  \n"
   ]
  },
  {
   "cell_type": "markdown",
   "id": "3eec014f-1e07-4b44-a403-4025df97fa52",
   "metadata": {},
   "source": [
    "✅ Resumed from epoch 1  \n",
    "📚 Epoch 2: Train Loss = 0.8506, Val Loss = 0.8921\n",
    "📚 Epoch 3: Train Loss = 0.7966, Val Loss = 0.8858\n",
    "📚 Epoch 4: Train Loss = 0.7612, Val Loss = 0.9041\n",
    "📚 Epoch 5: Train Loss = 0.7339, Val Loss = 0.9059\n",
    "📚 Epoch 6: Train Loss = 0.7137, Val Loss = 0.9165\n",
    "\n",
    " Final Evaluation on TEST set:  \n",
    "\n",
    "📊 Regression (Numerical):  \n",
    "• R² Score: 0.5108  \n",
    "• MSE: 0.7194  \n",
    "\n",
    "⚖️ Classification (Binary):  \n",
    "• Accuracy: 0.6915  \n",
    "• F1 Macro: 0.8042  \n",
    "• F1 Micro: 0.8122  "
   ]
  },
  {
   "cell_type": "code",
   "execution_count": null,
   "id": "53cca4df-9c0d-45e3-913e-e23983499338",
   "metadata": {},
   "outputs": [],
   "source": []
  }
 ],
 "metadata": {
  "kernelspec": {
   "display_name": "Python3",
   "language": "python",
   "name": "python3"
  },
  "language_info": {
   "codemirror_mode": {
    "name": "ipython",
    "version": 3
   },
   "file_extension": ".py",
   "mimetype": "text/x-python",
   "name": "python",
   "nbconvert_exporter": "python",
   "pygments_lexer": "ipython3",
   "version": "3.12.8"
  }
 },
 "nbformat": 4,
 "nbformat_minor": 5
}
