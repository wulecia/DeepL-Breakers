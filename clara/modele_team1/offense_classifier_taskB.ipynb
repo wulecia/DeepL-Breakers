{
 "cells": [
  {
   "cell_type": "code",
   "execution_count": 1,
   "id": "109d959b",
   "metadata": {},
   "outputs": [
    {
     "name": "stderr",
     "output_type": "stream",
     "text": [
      "WARNING: All log messages before absl::InitializeLog() is called are written to STDERR\n",
      "E0000 00:00:1744122769.867515    4718 cuda_dnn.cc:8579] Unable to register cuDNN factory: Attempting to register factory for plugin cuDNN when one has already been registered\n",
      "E0000 00:00:1744122769.872259    4718 cuda_blas.cc:1407] Unable to register cuBLAS factory: Attempting to register factory for plugin cuBLAS when one has already been registered\n",
      "W0000 00:00:1744122769.886157    4718 computation_placer.cc:177] computation placer already registered. Please check linkage and avoid linking the same target more than once.\n",
      "W0000 00:00:1744122769.886169    4718 computation_placer.cc:177] computation placer already registered. Please check linkage and avoid linking the same target more than once.\n",
      "W0000 00:00:1744122769.886170    4718 computation_placer.cc:177] computation placer already registered. Please check linkage and avoid linking the same target more than once.\n",
      "W0000 00:00:1744122769.886172    4718 computation_placer.cc:177] computation placer already registered. Please check linkage and avoid linking the same target more than once.\n"
     ]
    }
   ],
   "source": [
    "import pandas as pd\n",
    "import numpy as np\n",
    "import sys\n",
    "sys.path.append(\"./modele_team1\")\n",
    "\n",
    "from preprocessing import *\n",
    "from features import *\n",
    "from embeddings import *\n",
    "from models import *\n",
    "from ensemble import *\n",
    "from sklearn.model_selection import train_test_split\n",
    "from sklearn.metrics import classification_report"
   ]
  },
  {
   "cell_type": "code",
   "execution_count": 3,
   "id": "fc1b0541",
   "metadata": {},
   "outputs": [],
   "source": [
    "df = pd.read_csv(\"../datasets/training-v1/offenseval-training-v1.tsv\", sep='\\t')\n",
    "df.columns = [\"id\", \"text\", \"label_A\", \"label_B\", \"label_C\"]\n",
    "\n",
    "df_b = df[df[\"label_A\"] == \"OFF\"]\n",
    "texts = df_b[\"text\"].values\n",
    "labels = df_b[\"label_B\"].map({\"TIN\": 1, \"UNT\": 0}).values"
   ]
  },
  {
   "cell_type": "code",
   "execution_count": 4,
   "id": "44b37266",
   "metadata": {},
   "outputs": [],
   "source": [
    "# 3. Préparation des données\n",
    "norm_texts = [normalize_text(t) for t in texts]\n"
   ]
  },
  {
   "cell_type": "code",
   "execution_count": 5,
   "id": "4e2c9861",
   "metadata": {},
   "outputs": [],
   "source": [
    "X_feat = extract_features(norm_texts)\n"
   ]
  },
  {
   "cell_type": "code",
   "execution_count": 6,
   "id": "d18bc409",
   "metadata": {},
   "outputs": [
    {
     "name": "stdout",
     "output_type": "stream",
     "text": [
      "[INFO] Chargement des embeddings fastText...\n"
     ]
    }
   ],
   "source": [
    "# === 4. Embeddings fastText (limités à 50k mots pour la RAM) ===\n",
    "print(\"[INFO] Chargement des embeddings fastText...\")\n",
    "embeddings = load_fasttext(\"../embeddings/crawl-300d-1M.vec\", max_words=50000)\n",
    "X_embed = np.vstack([sentence_to_embedding(t, embeddings) for t in norm_texts])\n"
   ]
  },
  {
   "cell_type": "code",
   "execution_count": 7,
   "id": "9ba42ef9",
   "metadata": {},
   "outputs": [],
   "source": [
    "# === 5. Fusion features + embeddings ===\n",
    "X = np.hstack([X_embed, X_feat])\n"
   ]
  },
  {
   "cell_type": "code",
   "execution_count": 8,
   "id": "ebcc8ae9",
   "metadata": {},
   "outputs": [],
   "source": [
    "#  === 6. Split train/test ===\n",
    "X_train, X_test, y_train, y_test = train_test_split(X, labels, test_size=0.3, random_state=42)\n"
   ]
  },
  {
   "cell_type": "code",
   "execution_count": 9,
   "id": "e7038725",
   "metadata": {},
   "outputs": [
    {
     "name": "stdout",
     "output_type": "stream",
     "text": [
      "\n",
      "=== Rapport Random Forest ===\n",
      "              precision    recall  f1-score   support\n",
      "\n",
      "           0      0.333     0.056     0.096       160\n",
      "           1      0.883     0.984     0.931      1160\n",
      "\n",
      "    accuracy                          0.872      1320\n",
      "   macro avg      0.608     0.520     0.514      1320\n",
      "weighted avg      0.817     0.872     0.830      1320\n",
      "\n"
     ]
    }
   ],
   "source": [
    "# === 7. Modèle Random Forest ===\n",
    "rf = RFModel()\n",
    "rf.fit(X_train, y_train)\n",
    "y_pred_rf = rf.predict(X_test)\n",
    "print(\"\\n=== Rapport Random Forest ===\")\n",
    "print(classification_report(y_test, y_pred_rf, digits=3))\n"
   ]
  },
  {
   "cell_type": "code",
   "execution_count": 10,
   "id": "aa93141d-4cc2-4e22-aa1d-5fd02387f029",
   "metadata": {},
   "outputs": [
    {
     "name": "stdout",
     "output_type": "stream",
     "text": [
      "\n",
      "=== Rapport SVM ===\n",
      "              precision    recall  f1-score   support\n",
      "\n",
      "           0      0.000     0.000     0.000       160\n",
      "           1      0.879     1.000     0.935      1160\n",
      "\n",
      "    accuracy                          0.879      1320\n",
      "   macro avg      0.439     0.500     0.468      1320\n",
      "weighted avg      0.772     0.879     0.822      1320\n",
      "\n"
     ]
    },
    {
     "name": "stderr",
     "output_type": "stream",
     "text": [
      "/home/DeepL/Project/deepl/lib/python3.12/site-packages/sklearn/metrics/_classification.py:1565: UndefinedMetricWarning: Precision is ill-defined and being set to 0.0 in labels with no predicted samples. Use `zero_division` parameter to control this behavior.\n",
      "  _warn_prf(average, modifier, f\"{metric.capitalize()} is\", len(result))\n",
      "/home/DeepL/Project/deepl/lib/python3.12/site-packages/sklearn/metrics/_classification.py:1565: UndefinedMetricWarning: Precision is ill-defined and being set to 0.0 in labels with no predicted samples. Use `zero_division` parameter to control this behavior.\n",
      "  _warn_prf(average, modifier, f\"{metric.capitalize()} is\", len(result))\n",
      "/home/DeepL/Project/deepl/lib/python3.12/site-packages/sklearn/metrics/_classification.py:1565: UndefinedMetricWarning: Precision is ill-defined and being set to 0.0 in labels with no predicted samples. Use `zero_division` parameter to control this behavior.\n",
      "  _warn_prf(average, modifier, f\"{metric.capitalize()} is\", len(result))\n"
     ]
    }
   ],
   "source": [
    "# === 8. Modèle SVM ===\n",
    "svm = SVMModel()\n",
    "svm.fit(X_train, y_train)\n",
    "y_pred_svm = svm.predict(X_test)\n",
    "print(\"\\n=== Rapport SVM ===\")\n",
    "print(classification_report(y_test, y_pred_svm, digits=3))\n"
   ]
  },
  {
   "cell_type": "code",
   "execution_count": 11,
   "id": "cd7c4fee-0a9e-48ad-82d0-e086bda7da9d",
   "metadata": {},
   "outputs": [
    {
     "name": "stdout",
     "output_type": "stream",
     "text": [
      "\n",
      "=== Rapport Ensemble (RF + SVM) ===\n",
      "              precision    recall  f1-score   support\n",
      "\n",
      "           0      0.333     0.006     0.012       160\n",
      "           1      0.879     0.998     0.935      1160\n",
      "\n",
      "    accuracy                          0.878      1320\n",
      "   macro avg      0.606     0.502     0.474      1320\n",
      "weighted avg      0.813     0.878     0.823      1320\n",
      "\n"
     ]
    },
    {
     "name": "stderr",
     "output_type": "stream",
     "text": [
      "IOStream.flush timed out\n",
      "IOStream.flush timed out\n",
      "IOStream.flush timed out\n",
      "IOStream.flush timed out\n"
     ]
    }
   ],
   "source": [
    "# === 9. Ensemble Voting (RF + SVM) ===\n",
    "ensemble = SoftVotingEnsemble([\n",
    "    ('rf', rf.model),\n",
    "    ('svm', svm.model)\n",
    "])\n",
    "ensemble.fit(X_train, y_train)\n",
    "y_pred_ens = ensemble.predict(X_test)\n",
    "print(\"\\n=== Rapport Ensemble (RF + SVM) ===\")\n",
    "print(classification_report(y_test, y_pred_ens, digits=3))\n"
   ]
  },
  {
   "cell_type": "code",
   "execution_count": null,
   "id": "85b0d177-698e-4935-a819-3c658712ac7d",
   "metadata": {},
   "outputs": [],
   "source": []
  },
  {
   "cell_type": "code",
   "execution_count": null,
   "id": "7553e3e4-eafc-4b30-8b74-59c32030a363",
   "metadata": {},
   "outputs": [],
   "source": []
  }
 ],
 "metadata": {
  "kernelspec": {
   "display_name": "Python (deepl)",
   "language": "python",
   "name": "deepl"
  },
  "language_info": {
   "codemirror_mode": {
    "name": "ipython",
    "version": 3
   },
   "file_extension": ".py",
   "mimetype": "text/x-python",
   "name": "python",
   "nbconvert_exporter": "python",
   "pygments_lexer": "ipython3",
   "version": "3.12.8"
  }
 },
 "nbformat": 4,
 "nbformat_minor": 5
}
