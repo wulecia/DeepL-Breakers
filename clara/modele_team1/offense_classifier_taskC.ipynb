{
 "cells": [
  {
   "cell_type": "code",
   "execution_count": 1,
   "id": "109d959b",
   "metadata": {},
   "outputs": [
    {
     "name": "stderr",
     "output_type": "stream",
     "text": [
      "WARNING: All log messages before absl::InitializeLog() is called are written to STDERR\n",
      "E0000 00:00:1744123751.750932    5199 cuda_dnn.cc:8579] Unable to register cuDNN factory: Attempting to register factory for plugin cuDNN when one has already been registered\n",
      "E0000 00:00:1744123751.755205    5199 cuda_blas.cc:1407] Unable to register cuBLAS factory: Attempting to register factory for plugin cuBLAS when one has already been registered\n",
      "W0000 00:00:1744123751.767189    5199 computation_placer.cc:177] computation placer already registered. Please check linkage and avoid linking the same target more than once.\n",
      "W0000 00:00:1744123751.767199    5199 computation_placer.cc:177] computation placer already registered. Please check linkage and avoid linking the same target more than once.\n",
      "W0000 00:00:1744123751.767201    5199 computation_placer.cc:177] computation placer already registered. Please check linkage and avoid linking the same target more than once.\n",
      "W0000 00:00:1744123751.767202    5199 computation_placer.cc:177] computation placer already registered. Please check linkage and avoid linking the same target more than once.\n",
      "/home/DeepL/Project/deepl/lib/python3.12/site-packages/tqdm/auto.py:21: TqdmWarning: IProgress not found. Please update jupyter and ipywidgets. See https://ipywidgets.readthedocs.io/en/stable/user_install.html\n",
      "  from .autonotebook import tqdm as notebook_tqdm\n"
     ]
    }
   ],
   "source": [
    "import pandas as pd\n",
    "import numpy as np\n",
    "import sys\n",
    "sys.path.append(\"./modele_team1\")\n",
    "\n",
    "from preprocessing import *\n",
    "from features import *\n",
    "from embeddings import *\n",
    "from models import *\n",
    "from ensemble import *\n",
    "from sklearn.model_selection import train_test_split\n",
    "from sklearn.metrics import classification_report"
   ]
  },
  {
   "cell_type": "code",
   "execution_count": 2,
   "id": "fc1b0541",
   "metadata": {},
   "outputs": [],
   "source": [
    "df = pd.read_csv(\"../datasets/training-v1/offenseval-training-v1.tsv\", sep='\\t')\n",
    "df.columns = [\"id\", \"text\", \"label_A\", \"label_B\", \"label_C\"]\n",
    "\n",
    "# Subtask C : seulement quand label_A == 'OFF'\n",
    "df_c = df[(df[\"label_A\"] == \"OFF\") & (df[\"label_B\"] == \"TIN\")]\n",
    "texts = df_c[\"text\"].values\n",
    "labels = df_c[\"label_C\"].map({\"IND\": 0, \"GRP\": 1, \"OTH\": 2}).values\n"
   ]
  },
  {
   "cell_type": "code",
   "execution_count": 3,
   "id": "44b37266",
   "metadata": {},
   "outputs": [],
   "source": [
    "# 3. Préparation des données\n",
    "norm_texts = [normalize_text(t) for t in texts]\n"
   ]
  },
  {
   "cell_type": "code",
   "execution_count": 4,
   "id": "4e2c9861",
   "metadata": {},
   "outputs": [],
   "source": [
    "X_feat = extract_features(norm_texts)\n"
   ]
  },
  {
   "cell_type": "code",
   "execution_count": 5,
   "id": "d18bc409",
   "metadata": {},
   "outputs": [
    {
     "name": "stdout",
     "output_type": "stream",
     "text": [
      "[INFO] Chargement des embeddings fastText...\n"
     ]
    }
   ],
   "source": [
    "# === 4. Embeddings fastText (limités à 50k mots pour la RAM) ===\n",
    "print(\"[INFO] Chargement des embeddings fastText...\")\n",
    "embeddings = load_fasttext(\"../embeddings/crawl-300d-1M.vec\", max_words=50000)\n",
    "X_embed = np.vstack([sentence_to_embedding(t, embeddings) for t in norm_texts])\n"
   ]
  },
  {
   "cell_type": "code",
   "execution_count": 6,
   "id": "9ba42ef9",
   "metadata": {},
   "outputs": [],
   "source": [
    "# === 5. Fusion features + embeddings ===\n",
    "X = np.hstack([X_embed, X_feat])\n"
   ]
  },
  {
   "cell_type": "code",
   "execution_count": 7,
   "id": "ebcc8ae9",
   "metadata": {},
   "outputs": [],
   "source": [
    "#  === 6. Split train/test ===\n",
    "X_train, X_test, y_train, y_test = train_test_split(X, labels, test_size=0.3, random_state=42)\n"
   ]
  },
  {
   "cell_type": "code",
   "execution_count": 8,
   "id": "e7038725",
   "metadata": {},
   "outputs": [
    {
     "name": "stdout",
     "output_type": "stream",
     "text": [
      "\n",
      "=== Rapport Random Forest ===\n",
      "              precision    recall  f1-score   support\n",
      "\n",
      "           0      0.744     0.915     0.821       743\n",
      "           1      0.588     0.477     0.527       302\n",
      "           2      0.250     0.008     0.016       118\n",
      "\n",
      "    accuracy                          0.709      1163\n",
      "   macro avg      0.527     0.467     0.455      1163\n",
      "weighted avg      0.653     0.709     0.663      1163\n",
      "\n"
     ]
    }
   ],
   "source": [
    "# === 7. Modèle Random Forest ===\n",
    "rf = RFModel()\n",
    "rf.fit(X_train, y_train)\n",
    "y_pred_rf = rf.predict(X_test)\n",
    "print(\"\\n=== Rapport Random Forest ===\")\n",
    "print(classification_report(y_test, y_pred_rf, digits=3))\n"
   ]
  },
  {
   "cell_type": "code",
   "execution_count": 9,
   "id": "aa93141d-4cc2-4e22-aa1d-5fd02387f029",
   "metadata": {},
   "outputs": [
    {
     "name": "stdout",
     "output_type": "stream",
     "text": [
      "\n",
      "=== Rapport SVM ===\n",
      "              precision    recall  f1-score   support\n",
      "\n",
      "           0      0.765     0.903     0.828       743\n",
      "           1      0.573     0.543     0.558       302\n",
      "           2      0.000     0.000     0.000       118\n",
      "\n",
      "    accuracy                          0.718      1163\n",
      "   macro avg      0.446     0.482     0.462      1163\n",
      "weighted avg      0.638     0.718     0.674      1163\n",
      "\n"
     ]
    },
    {
     "name": "stderr",
     "output_type": "stream",
     "text": [
      "/home/DeepL/Project/deepl/lib/python3.12/site-packages/sklearn/metrics/_classification.py:1565: UndefinedMetricWarning: Precision is ill-defined and being set to 0.0 in labels with no predicted samples. Use `zero_division` parameter to control this behavior.\n",
      "  _warn_prf(average, modifier, f\"{metric.capitalize()} is\", len(result))\n",
      "/home/DeepL/Project/deepl/lib/python3.12/site-packages/sklearn/metrics/_classification.py:1565: UndefinedMetricWarning: Precision is ill-defined and being set to 0.0 in labels with no predicted samples. Use `zero_division` parameter to control this behavior.\n",
      "  _warn_prf(average, modifier, f\"{metric.capitalize()} is\", len(result))\n",
      "/home/DeepL/Project/deepl/lib/python3.12/site-packages/sklearn/metrics/_classification.py:1565: UndefinedMetricWarning: Precision is ill-defined and being set to 0.0 in labels with no predicted samples. Use `zero_division` parameter to control this behavior.\n",
      "  _warn_prf(average, modifier, f\"{metric.capitalize()} is\", len(result))\n"
     ]
    }
   ],
   "source": [
    "# === 8. Modèle SVM ===\n",
    "svm = SVMModel()\n",
    "svm.fit(X_train, y_train)\n",
    "y_pred_svm = svm.predict(X_test)\n",
    "print(\"\\n=== Rapport SVM ===\")\n",
    "print(classification_report(y_test, y_pred_svm, digits=3))\n"
   ]
  },
  {
   "cell_type": "code",
   "execution_count": 10,
   "id": "cd7c4fee-0a9e-48ad-82d0-e086bda7da9d",
   "metadata": {},
   "outputs": [
    {
     "name": "stdout",
     "output_type": "stream",
     "text": [
      "\n",
      "=== Rapport Ensemble (RF + SVM) ===\n",
      "              precision    recall  f1-score   support\n",
      "\n",
      "           0      0.771     0.904     0.832       743\n",
      "           1      0.579     0.556     0.568       302\n",
      "           2      0.000     0.000     0.000       118\n",
      "\n",
      "    accuracy                          0.722      1163\n",
      "   macro avg      0.450     0.487     0.467      1163\n",
      "weighted avg      0.643     0.722     0.679      1163\n",
      "\n"
     ]
    }
   ],
   "source": [
    "# === 9. Ensemble Voting (RF + SVM) ===\n",
    "ensemble = SoftVotingEnsemble([\n",
    "    ('rf', rf.model),\n",
    "    ('svm', svm.model)\n",
    "])\n",
    "ensemble.fit(X_train, y_train)\n",
    "y_pred_ens = ensemble.predict(X_test)\n",
    "print(\"\\n=== Rapport Ensemble (RF + SVM) ===\")\n",
    "print(classification_report(y_test, y_pred_ens, digits=3))\n"
   ]
  },
  {
   "cell_type": "code",
   "execution_count": null,
   "id": "85b0d177-698e-4935-a819-3c658712ac7d",
   "metadata": {},
   "outputs": [],
   "source": [
    "# Subtask C : uniquement OFF et TIN\n",
    "df_c = df[(df[\"label_A\"] == \"OFF\") & (df[\"label_B\"] == \"TIN\")]\n",
    "texts = df_c[\"text\"].tolist()\n",
    "labels = df_c[\"label_C\"].map({\"IND\": 0, \"GRP\": 1, \"OTH\": 2}).tolist()\n",
    "\n",
    "bert = BERTModel(model_name=\"distilbert-base-uncased\", num_labels=3)\n",
    "y_pred_bert = bert.predict(texts)\n",
    "\n",
    "print(\"\\n=== Rapport BERT (Subtask C) ===\")\n",
    "print(classification_report(labels, y_pred_bert, digits=3))"
   ]
  },
  {
   "cell_type": "code",
   "execution_count": null,
   "id": "9dafaecc-a979-44e9-9efa-fe85c4738fbf",
   "metadata": {},
   "outputs": [],
   "source": []
  }
 ],
 "metadata": {
  "kernelspec": {
   "display_name": "Python (deepl)",
   "language": "python",
   "name": "deepl"
  },
  "language_info": {
   "codemirror_mode": {
    "name": "ipython",
    "version": 3
   },
   "file_extension": ".py",
   "mimetype": "text/x-python",
   "name": "python",
   "nbconvert_exporter": "python",
   "pygments_lexer": "ipython3",
   "version": "3.12.8"
  }
 },
 "nbformat": 4,
 "nbformat_minor": 5
}
