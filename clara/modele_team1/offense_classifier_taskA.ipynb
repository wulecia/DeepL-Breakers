{
 "cells": [
  {
   "cell_type": "code",
   "execution_count": 1,
   "id": "109d959b",
   "metadata": {},
   "outputs": [
    {
     "name": "stderr",
     "output_type": "stream",
     "text": [
      "WARNING: All log messages before absl::InitializeLog() is called are written to STDERR\n",
      "E0000 00:00:1744188848.051332     988 cuda_dnn.cc:8579] Unable to register cuDNN factory: Attempting to register factory for plugin cuDNN when one has already been registered\n",
      "E0000 00:00:1744188848.055625     988 cuda_blas.cc:1407] Unable to register cuBLAS factory: Attempting to register factory for plugin cuBLAS when one has already been registered\n",
      "W0000 00:00:1744188848.068238     988 computation_placer.cc:177] computation placer already registered. Please check linkage and avoid linking the same target more than once.\n",
      "W0000 00:00:1744188848.068253     988 computation_placer.cc:177] computation placer already registered. Please check linkage and avoid linking the same target more than once.\n",
      "W0000 00:00:1744188848.068255     988 computation_placer.cc:177] computation placer already registered. Please check linkage and avoid linking the same target more than once.\n",
      "W0000 00:00:1744188848.068257     988 computation_placer.cc:177] computation placer already registered. Please check linkage and avoid linking the same target more than once.\n",
      "/home/DeepL/Project/deepl/lib/python3.12/site-packages/tqdm/auto.py:21: TqdmWarning: IProgress not found. Please update jupyter and ipywidgets. See https://ipywidgets.readthedocs.io/en/stable/user_install.html\n",
      "  from .autonotebook import tqdm as notebook_tqdm\n"
     ]
    }
   ],
   "source": [
    "import pandas as pd\n",
    "import numpy as np\n",
    "import sys\n",
    "sys.path.append(\"./modele_team1\")\n",
    "\n",
    "from preprocessing import *\n",
    "from features import *\n",
    "from embeddings import *\n",
    "from models import *\n",
    "from ensemble import *\n",
    "from sklearn.model_selection import train_test_split\n",
    "from sklearn.metrics import classification_report"
   ]
  },
  {
   "cell_type": "code",
   "execution_count": 2,
   "id": "fc1b0541",
   "metadata": {},
   "outputs": [],
   "source": [
    "df = pd.read_csv(\"../datasets/training-v1/offenseval-training-v1.tsv\", sep='\\t')\n",
    "df.columns = [\"id\", \"text\", \"label_A\", \"label_B\", \"label_C\"]\n",
    "\n",
    "texts = df[\"text\"].values\n",
    "labels = df[\"label_A\"].map({\"NOT\": 0, \"OFF\": 1}).values\n"
   ]
  },
  {
   "cell_type": "code",
   "execution_count": 3,
   "id": "44b37266",
   "metadata": {},
   "outputs": [],
   "source": [
    "# 3. Préparation des données\n",
    "norm_texts = [normalize_text(t) for t in texts]\n"
   ]
  },
  {
   "cell_type": "code",
   "execution_count": 4,
   "id": "4e2c9861",
   "metadata": {},
   "outputs": [],
   "source": [
    "X_feat = extract_features(norm_texts)\n"
   ]
  },
  {
   "cell_type": "code",
   "execution_count": 5,
   "id": "d18bc409",
   "metadata": {},
   "outputs": [
    {
     "name": "stdout",
     "output_type": "stream",
     "text": [
      "[INFO] Chargement des embeddings fastText...\n"
     ]
    }
   ],
   "source": [
    "# === 4. Embeddings fastText (limités à 50k mots pour la RAM) ===\n",
    "print(\"[INFO] Chargement des embeddings fastText...\")\n",
    "embeddings = load_fasttext(\"../embeddings/crawl-300d-1M.vec\", max_words=50000)\n",
    "X_embed = np.vstack([sentence_to_embedding(t, embeddings) for t in norm_texts])\n"
   ]
  },
  {
   "cell_type": "code",
   "execution_count": 6,
   "id": "9ba42ef9",
   "metadata": {},
   "outputs": [],
   "source": [
    "# === 5. Fusion features + embeddings ===\n",
    "X = np.hstack([X_embed, X_feat])\n"
   ]
  },
  {
   "cell_type": "code",
   "execution_count": 7,
   "id": "ebcc8ae9",
   "metadata": {},
   "outputs": [],
   "source": [
    "#  === 6. Split train/test ===\n",
    "X_train, X_test, y_train, y_test = train_test_split(X, labels, test_size=0.3, random_state=42)\n"
   ]
  },
  {
   "cell_type": "code",
   "execution_count": 12,
   "id": "e7038725",
   "metadata": {},
   "outputs": [
    {
     "name": "stdout",
     "output_type": "stream",
     "text": [
      "\n",
      "=== Rapport Random Forest ===\n",
      "              precision    recall  f1-score   support\n",
      "\n",
      "           0      0.724     0.967     0.828      2639\n",
      "           1      0.804     0.272     0.406      1333\n",
      "\n",
      "    accuracy                          0.733      3972\n",
      "   macro avg      0.764     0.619     0.617      3972\n",
      "weighted avg      0.751     0.733     0.686      3972\n",
      "\n"
     ]
    }
   ],
   "source": [
    "# === 7. Modèle Random Forest ===\n",
    "rf = RFModel()\n",
    "rf.fit(X_train, y_train)\n",
    "y_pred_rf = rf.predict(X_test)\n",
    "print(\"\\n=== Rapport Random Forest ===\")\n",
    "print(classification_report(y_test, y_pred_rf, digits=3))\n"
   ]
  },
  {
   "cell_type": "code",
   "execution_count": 13,
   "id": "aa93141d-4cc2-4e22-aa1d-5fd02387f029",
   "metadata": {},
   "outputs": [
    {
     "name": "stdout",
     "output_type": "stream",
     "text": [
      "\n",
      "=== Rapport SVM ===\n",
      "              precision    recall  f1-score   support\n",
      "\n",
      "           0      0.717     0.970     0.824      2639\n",
      "           1      0.801     0.242     0.372      1333\n",
      "\n",
      "    accuracy                          0.726      3972\n",
      "   macro avg      0.759     0.606     0.598      3972\n",
      "weighted avg      0.745     0.726     0.673      3972\n",
      "\n"
     ]
    }
   ],
   "source": [
    "# === 8. Modèle SVM ===\n",
    "svm = SVMModel()\n",
    "svm.fit(X_train, y_train)\n",
    "y_pred_svm = svm.predict(X_test)\n",
    "print(\"\\n=== Rapport SVM ===\")\n",
    "print(classification_report(y_test, y_pred_svm, digits=3))\n"
   ]
  },
  {
   "cell_type": "code",
   "execution_count": 14,
   "id": "cd7c4fee-0a9e-48ad-82d0-e086bda7da9d",
   "metadata": {},
   "outputs": [
    {
     "name": "stdout",
     "output_type": "stream",
     "text": [
      "\n",
      "=== Rapport Ensemble (RF + SVM) ===\n",
      "              precision    recall  f1-score   support\n",
      "\n",
      "           0      0.734     0.957     0.831      2639\n",
      "           1      0.786     0.314     0.449      1333\n",
      "\n",
      "    accuracy                          0.741      3972\n",
      "   macro avg      0.760     0.636     0.640      3972\n",
      "weighted avg      0.752     0.741     0.703      3972\n",
      "\n"
     ]
    }
   ],
   "source": [
    "# === 9. Ensemble Voting (RF + SVM) ===\n",
    "ensemble = SoftVotingEnsemble([\n",
    "    ('rf', rf.model),\n",
    "    ('svm', svm.model)\n",
    "])\n",
    "ensemble.fit(X_train, y_train)\n",
    "y_pred_ens = ensemble.predict(X_test)\n",
    "print(\"\\n=== Rapport Ensemble (RF + SVM) ===\")\n",
    "print(classification_report(y_test, y_pred_ens, digits=3))\n"
   ]
  },
  {
   "cell_type": "code",
   "execution_count": 8,
   "id": "e9b6a070-dbf4-437c-9785-60f502bef227",
   "metadata": {},
   "outputs": [
    {
     "name": "stderr",
     "output_type": "stream",
     "text": [
      "Some weights of RobertaForSequenceClassification were not initialized from the model checkpoint at roberta-large and are newly initialized: ['classifier.dense.bias', 'classifier.dense.weight', 'classifier.out_proj.bias', 'classifier.out_proj.weight']\n",
      "You should probably TRAIN this model on a down-stream task to be able to use it for predictions and inference.\n"
     ]
    },
    {
     "name": "stdout",
     "output_type": "stream",
     "text": [
      "\n",
      "=== Rapport RoBERTa ===\n",
      "              precision    recall  f1-score   support\n",
      "\n",
      "           0      0.000     0.000     0.000        68\n",
      "           1      0.316     0.938     0.472        32\n",
      "           2      0.000     0.000     0.000         0\n",
      "\n",
      "    accuracy                          0.300       100\n",
      "   macro avg      0.105     0.312     0.157       100\n",
      "weighted avg      0.101     0.300     0.151       100\n",
      "\n"
     ]
    },
    {
     "name": "stderr",
     "output_type": "stream",
     "text": [
      "/home/DeepL/Project/deepl/lib/python3.12/site-packages/sklearn/metrics/_classification.py:1565: UndefinedMetricWarning: Precision is ill-defined and being set to 0.0 in labels with no predicted samples. Use `zero_division` parameter to control this behavior.\n",
      "  _warn_prf(average, modifier, f\"{metric.capitalize()} is\", len(result))\n",
      "/home/DeepL/Project/deepl/lib/python3.12/site-packages/sklearn/metrics/_classification.py:1565: UndefinedMetricWarning: Recall is ill-defined and being set to 0.0 in labels with no true samples. Use `zero_division` parameter to control this behavior.\n",
      "  _warn_prf(average, modifier, f\"{metric.capitalize()} is\", len(result))\n",
      "/home/DeepL/Project/deepl/lib/python3.12/site-packages/sklearn/metrics/_classification.py:1565: UndefinedMetricWarning: Precision is ill-defined and being set to 0.0 in labels with no predicted samples. Use `zero_division` parameter to control this behavior.\n",
      "  _warn_prf(average, modifier, f\"{metric.capitalize()} is\", len(result))\n",
      "/home/DeepL/Project/deepl/lib/python3.12/site-packages/sklearn/metrics/_classification.py:1565: UndefinedMetricWarning: Recall is ill-defined and being set to 0.0 in labels with no true samples. Use `zero_division` parameter to control this behavior.\n",
      "  _warn_prf(average, modifier, f\"{metric.capitalize()} is\", len(result))\n",
      "/home/DeepL/Project/deepl/lib/python3.12/site-packages/sklearn/metrics/_classification.py:1565: UndefinedMetricWarning: Precision is ill-defined and being set to 0.0 in labels with no predicted samples. Use `zero_division` parameter to control this behavior.\n",
      "  _warn_prf(average, modifier, f\"{metric.capitalize()} is\", len(result))\n",
      "/home/DeepL/Project/deepl/lib/python3.12/site-packages/sklearn/metrics/_classification.py:1565: UndefinedMetricWarning: Recall is ill-defined and being set to 0.0 in labels with no true samples. Use `zero_division` parameter to control this behavior.\n",
      "  _warn_prf(average, modifier, f\"{metric.capitalize()} is\", len(result))\n"
     ]
    }
   ],
   "source": [
    "# Adapter `num_labels` à la task :\n",
    "# Task A → 2 classes (NOT/OFF)\n",
    "# Task B → 2 classes (UNT/TIN)\n",
    "# Task C → 3 classes (IND/GRP/OTH)\n",
    "\n",
    "roberta = TransformerModel(model_name=\"roberta-large\", num_labels=3)  # adapte le 3 si A/B\n",
    "\n",
    "texts_sample = texts[:100]\n",
    "labels_sample = labels[:100]\n",
    "y_pred_roberta = roberta.predict(texts_sample)\n",
    "print(\"\\n=== Rapport RoBERTa ===\")\n",
    "print(classification_report(labels_sample, y_pred_roberta, digits=3))\n",
    "\n",
    "#y_pred_roberta = roberta.predict(texts)\n",
    "\n",
    "#print(\"\\n=== Rapport RoBERTa ===\")\n",
    "#print(classification_report(labels, y_pred_roberta, digits=3))"
   ]
  }
 ],
 "metadata": {
  "kernelspec": {
   "display_name": "Python (deepl)",
   "language": "python",
   "name": "deepl"
  },
  "language_info": {
   "codemirror_mode": {
    "name": "ipython",
    "version": 3
   },
   "file_extension": ".py",
   "mimetype": "text/x-python",
   "name": "python",
   "nbconvert_exporter": "python",
   "pygments_lexer": "ipython3",
   "version": "3.12.8"
  }
 },
 "nbformat": 4,
 "nbformat_minor": 5
}
