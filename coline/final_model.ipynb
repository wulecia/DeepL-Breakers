{
 "cells": [
  {
   "cell_type": "code",
   "execution_count": 1,
   "metadata": {},
   "outputs": [],
   "source": [
    "import sys, os\n",
    "sys.path.append(os.path.abspath('..'))\n",
    "\n",
    "import joblib\n",
    "import torch\n",
    "import numpy as np\n",
    "import matplotlib.pyplot as plt\n",
    "from sklearn.model_selection import train_test_split\n",
    "from sklearn.metrics import accuracy_score, f1_score, precision_score, recall_score\n",
    "\n",
    "from DataReader import DataReader\n",
    "from Preprocessor import Preprocessor\n",
    "from Vectorizer import Vectorizer\n",
    "from DeepLearning import DeepLearner\n",
    "from Classifier import Classifier\n",
    "\n",
    "import importlib\n",
    "import Vectorizer\n",
    "importlib.reload(Vectorizer)\n",
    "from Vectorizer import Vectorizer"
   ]
  },
  {
   "cell_type": "code",
   "execution_count": 9,
   "metadata": {},
   "outputs": [],
   "source": [
    "import torchvision.models as models\n",
    "import torchvision\n",
    "from torchsummary import summary"
   ]
  },
  {
   "cell_type": "code",
   "execution_count": 10,
   "metadata": {},
   "outputs": [],
   "source": [
    "model = models.alexnet()"
   ]
  },
  {
   "cell_type": "code",
   "execution_count": null,
   "metadata": {},
   "outputs": [
    {
     "ename": "TypeError",
     "evalue": "summary() missing 1 required positional argument: 'input_size'",
     "output_type": "error",
     "