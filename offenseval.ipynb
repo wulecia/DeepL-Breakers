{
  "cells": [
    {
      "cell_type": "markdown",
      "metadata": {
        "colab_type": "text",
        "id": "view-in-github"
      },
      "source": [
        "<a href=\"https://colab.research.google.com/github/ZeyadZanaty/offenseval/blob/master/offenseval.ipynb\" target=\"_parent\"><img src=\"https://colab.research.google.com/assets/colab-badge.svg\" alt=\"Open In Colab\"/></a>"
      ]
    },
    {
      "cell_type": "markdown",
      "metadata": {
        "colab_type": "text",
        "id": "SPWG_BxYb8tW"
      },
      "source": [
        "## Cloning to download classes"
      ]
    },
    {
      "cell_type": "code",
      "execution_count": 1,
      "metadata": {
        "colab": {
          "base_uri": "https://localhost:8080/",
          "height": 170
        },
        "colab_type": "code",
        "id": "s1T3tl8ipn6l",
        "outputId": "f190050d-214a-4c6b-8c9c-7c400d0afdae"
      },
      "outputs": [
        {
          "data": {
            "text/plain": [
              "'\\n!git clone https://github.com/ZeyadZanaty/offenseval.git\\n%cd offenseval\\n%matplotlib inline\\n'"
            ]
          },
          "execution_count": 1,
          "metadata": {},
          "output_type": "execute_result"
        }
      ],
      "source": [
        "'''\n",
        "!git clone https://github.com/ZeyadZanaty/offenseval.git\n",
        "%cd offenseval\n",
        "%matplotlib inline\n",
        "'''"
      ]
    },
    {
      "cell_type": "markdown",
      "metadata": {
        "colab_type": "text",
        "id": "ve5Rv-1qbn-s"
      },
      "source": [
        "## Imports"
      ]
    },
    {
      "cell_type": "code",
      "execution_count": 2,
      "metadata": {
        "colab": {
          "base_uri": "https://localhost:8080/",
          "height": 204
        },
        "colab_type": "code",
        "id": "gourfMtuqQpn",
        "outputId": "19165e73-ddce-4497-c68f-a47ceb89c293"
      },
      "outputs": [
        {
          "name": "stderr",
          "output_type": "stream",
          "text": [
            "[nltk_data] Downloading package stopwords to\n",
            "[nltk_data]     /Users/claradelandre/nltk_data...\n",
            "[nltk_data]   Package stopwords is already up-to-date!\n",
            "[nltk_data] Downloading package punkt to\n",
            "[nltk_data]     /Users/claradelandre/nltk_data...\n",
            "[nltk_data]   Package punkt is already up-to-date!\n",
            "[nltk_data] Downloading package wordnet to\n",
            "[nltk_data]     /Users/claradelandre/nltk_data...\n",
            "[nltk_data]   Package wordnet is already up-to-date!\n",
            "[nltk_data] Downloading package averaged_perceptron_tagger to\n",
            "[nltk_data]     /Users/claradelandre/nltk_data...\n",
            "[nltk_data]   Package averaged_perceptron_tagger is already up-to-\n",
            "[nltk_data]       date!\n",
            "[nltk_data] Downloading package averaged_perceptron_tagger_eng to\n",
            "[nltk_data]     /Users/claradelandre/nltk_data...\n",
            "[nltk_data]   Package averaged_perceptron_tagger_eng is already up-to-\n",
            "[nltk_data]       date!\n",
            "[nltk_data] Downloading package punkt_tab to\n",
            "[nltk_data]     /Users/claradelandre/nltk_data...\n",
            "[nltk_data]   Package punkt_tab is already up-to-date!\n"
          ]
        },
        {
          "data": {
            "text/plain": [
              "True"
            ]
          },
          "execution_count": 2,
          "metadata": {},
          "output_type": "execute_result"
        }
      ],
      "source": [
        "import nltk\n",
        "nltk.download(['stopwords', 'punkt', 'wordnet', 'averaged_perceptron_tagger', 'averaged_perceptron_tagger_eng', 'punkt_tab'])"
      ]
    },
    {
      "cell_type": "code",
      "execution_count": 3,
      "metadata": {},
      "outputs": [],
      "source": [
        "%reload_ext autoreload\n",
        "%autoreload 2"
      ]
    },
    {
      "cell_type": "code",
      "execution_count": 4,
      "metadata": {
        "colab": {
          "base_uri": "https://localhost:8080/",
          "height": 34
        },
        "colab_type": "code",
        "id": "--LyPKw5sbCP",
        "outputId": "317d7b5e-1a7d-4b21-cccc-5af9a567abf7"
      },
      "outputs": [
        {
          "name": "stdout",
          "output_type": "stream",
          "text": [
            "Vectorizer\n",
            "classifier\n",
            "deeplearning\n",
            "preprocessor\n",
            "sklearn\n",
            "numpy\n"
          ]
        }
      ],
      "source": [
        "from DataReader import DataReader\n",
        "print(\"Vectorizer\")\n",
        "from Vectorizer import Vectorizer\n",
        "print(\"classifier\")\n",
        "from Classifier import Classifier\n",
        "print(\"deeplearning\")\n",
        "from DeepLearning import DeepLearner\n",
        "print(\"preprocessor\")\n",
        "from Preprocessor import Preprocessor\n",
        "print(\"sklearn\")\n",
        "from sklearn.model_selection import train_test_split as split\n",
        "print(\"numpy\")\n",
        "import numpy as np"
      ]
    },
    {
      "cell_type": "markdown",
      "metadata": {
        "colab_type": "text",
        "id": "wm9C_I7akuZ-"
      },
      "source": [
        "# Subtask A"
      ]
    },
    {
      "cell_type": "markdown",
      "metadata": {
        "colab_type": "text",
        "id": "KC-eY0hnbp42"
      },
      "source": [
        "## Reading data and splitting"
      ]
    },
    {
      "cell_type": "code",
      "execution_count": 5,
      "metadata": {
        "colab": {
          "base_uri": "https://localhost:8080/",
          "height": 34
        },
        "colab_type": "code",
        "id": "0LJucFgpKJzH",
        "outputId": "a440f09a-e584-4aae-8fe6-5d543d6e7ae1"
      },
      "outputs": [
        {
          "name": "stderr",
          "output_type": "stream",
          "text": [
            "Reading Data: 13241it [00:00, 297846.62it/s]\n"
          ]
        }
      ],
      "source": [
        "dr = DataReader('./datasets/training-v1/offenseval-training-v1.tsv', 'A')\n",
        "data, labels = dr.get_labelled_data()\n",
        "data, labels = dr.shuffle(data, labels, 'random')\n",
        "\n",
        "# Split dataset into training and testing sets\n",
        "tr_data, tst_data, tr_labels, tst_labels = split(data, labels, test_size=0.3)\n"
      ]
    },
    {
      "cell_type": "markdown",
      "metadata": {
        "colab_type": "text",
        "id": "9PxM1EZCbt5o"
      },
      "source": [
        "## Initializing objects"
      ]
    },
    {
      "cell_type": "code",
      "execution_count": 6,
      "metadata": {
        "colab": {},
        "colab_type": "code",
        "id": "fPejHCDkKNRK"
      },
      "outputs": [],
      "source": [
        "preprocessors = [('lemmatize'), ('remove_stopwords', 'lemmatize'),\n",
        "                 ('remove_stopwords', 'stem'), ('remove_stopwords', 'lemmatize'),\n",
        "                 ('remove_stopwords', 'lemmatize'), ('remove_stopwords')]\n",
        "\n",
        "vectorizers = ['count', 'count', 'count', 'tfidf', 'glove']\n",
        "\n",
        "classifiers = [('RandomForest', {'n_estimators': 30}),\n",
        "               ('LogisticRegression', {'penalty': 'l2', 'solver': 'sag'}),\n",
        "               ('M-NaiveBayes', {'alpha': 5, 'fit_prior': True}),\n",
        "               ('KNN', {'n_neighbors': 5}),\n",
        "               ('SVC', {'C': 10, 'kernel': 'rbf'})]\n",
        "\n",
        "# Prepare preprocessors, vectorizers, and classifiers\n",
        "for i in range(len(vectorizers)):\n",
        "    preprocessors[i] = Preprocessor(preprocessors[i])\n",
        "    vectorizers[i] = Vectorizer(vectorizers[i])\n",
        "    classifiers[i] = Classifier(*classifiers[i])"
      ]
    },
    {
      "cell_type": "markdown",
      "metadata": {
        "colab_type": "text",
        "id": "kvRlJnTZb0Ag"
      },
      "source": [
        "## Training classifiers"
      ]
    },
    {
      "cell_type": "code",
      "execution_count": 7,
      "metadata": {
        "colab": {},
        "colab_type": "code",
        "id": "TeVz8vG3NeJN"
      },
      "outputs": [
        {
          "name": "stderr",
          "output_type": "stream",
          "text": [
            "Tokenization: 9268it [00:01, 6471.61it/s]0<?, ?it/s]\n",
            "Lemmatization: 9268it [00:11, 814.84it/s] <00:01,  1.44s/it]\n",
            "Preprocessing: 100%|██████████| 2/2 [00:12<00:00,  6.41s/it]\n",
            "Tokenization: 3972it [00:00, 6857.18it/s]0<?, ?it/s]\n",
            "Lemmatization: 3972it [00:03, 1022.71it/s]<00:00,  1.72it/s]\n",
            "Preprocessing: 100%|██████████| 2/2 [00:04<00:00,  2.23s/it]\n",
            "Tokenization: 9268it [00:01, 6831.73it/s]0<?, ?it/s]\n",
            "Stopwords Removal: 9268it [00:00, 79808.51it/s]2,  1.36s/it]\n",
            "Lemmatization: 9268it [00:04, 2034.57it/s]<00:00,  1.59it/s]\n",
            "Preprocessing: 100%|██████████| 3/3 [00:06<00:00,  2.01s/it]\n",
            "Tokenization: 3972it [00:00, 6866.03it/s]0<?, ?it/s]\n",
            "Stopwords Removal: 3972it [00:00, 81313.21it/s]1,  1.73it/s]\n",
            "Lemmatization: 3972it [00:01, 2082.22it/s]\n",
            "Preprocessing: 100%|██████████| 3/3 [00:02<00:00,  1.18it/s]\n",
            "/Users/claradelandre/opt/anaconda3/envs/offenseval/lib/python3.8/site-packages/sklearn/linear_model/_sag.py:350: ConvergenceWarning: The max_iter was reached which means the coef_ did not converge\n",
            "  warnings.warn(\n",
            "Tokenization: 9268it [00:01, 6483.09it/s]0<?, ?it/s]\n",
            "Stopwords Removal: 9268it [00:00, 77787.62it/s]2,  1.43s/it]\n",
            "Stemming: 9268it [00:01, 7058.82it/s]00:01<00:00,  1.51it/s]\n",
            "Preprocessing: 100%|██████████| 3/3 [00:02<00:00,  1.05it/s]\n",
            "Tokenization: 3972it [00:00, 6726.40it/s]0<?, ?it/s]\n",
            "Stopwords Removal: 3972it [00:00, 79289.60it/s]1,  1.69it/s]\n",
            "Stemming: 3972it [00:00, 7220.60it/s]\n",
            "Preprocessing: 100%|██████████| 3/3 [00:01<00:00,  2.51it/s]\n",
            "Tokenization: 9268it [00:01, 6659.28it/s]0<?, ?it/s]\n",
            "Stopwords Removal: 9268it [00:00, 79997.88it/s]2,  1.39s/it]\n",
            "Lemmatization: 9268it [00:04, 1996.74it/s]<00:00,  1.56it/s]\n",
            "Preprocessing: 100%|██████████| 3/3 [00:06<00:00,  2.05s/it]\n",
            "Tokenization: 3972it [00:00, 6743.44it/s]0<?, ?it/s]\n",
            "Stopwords Removal: 3972it [00:00, 79278.28it/s]1,  1.69it/s]\n",
            "Lemmatization: 3972it [00:01, 2068.44it/s]\n",
            "Preprocessing: 100%|██████████| 3/3 [00:02<00:00,  1.17it/s]\n",
            "Tokenization: 9268it [00:01, 6702.31it/s]0<?, ?it/s]\n",
            "Stopwords Removal: 9268it [00:00, 59247.67it/s]2,  1.38s/it]\n",
            "Lemmatization: 9268it [00:04, 2008.29it/s]<00:00,  1.51it/s]\n",
            "Preprocessing: 100%|██████████| 3/3 [00:06<00:00,  2.05s/it]\n",
            "Tokenization: 3972it [00:00, 6695.97it/s]0<?, ?it/s]\n",
            "Stopwords Removal: 3972it [00:00, 79977.42it/s]1,  1.68it/s]\n",
            "Lemmatization: 3972it [00:01, 2002.38it/s]\n",
            "Preprocessing: 100%|██████████| 3/3 [00:02<00:00,  1.14it/s]\n"
          ]
        },
        {
          "name": "stdout",
          "output_type": "stream",
          "text": [
            "\n",
            "Loading Glove Embeddings from api...\n",
            "[==================================================] 100.0% 387.1/387.1MB downloaded\n"
          ]
        },
        {
          "name": "stderr",
          "output_type": "stream",
          "text": [
            "Vectorizing: 100%|██████████| 9268/9268 [00:00<00:00, 47630.13it/s]\n",
            "Finalizing: 100%|██████████| 9268/9268 [00:02<00:00, 3485.64it/s]\n"
          ]
        },
        {
          "name": "stdout",
          "output_type": "stream",
          "text": [
            "\n",
            "Loading Glove Embeddings from api...\n"
          ]
        },
        {
          "name": "stderr",
          "output_type": "stream",
          "text": [
            "Vectorizing: 100%|██████████| 3972/3972 [00:00<00:00, 55209.43it/s]\n",
            "Finalizing: 100%|██████████| 3972/3972 [00:01<00:00, 3497.32it/s]\n"
          ]
        }
      ],
      "source": [
        "tst_vecs = []\n",
        "tr_vecs = []\n",
        "for i in range(len(classifiers)):\n",
        "  tr_data_clean = preprocessors[i].clean(tr_data)\n",
        "  tst_data_clean = preprocessors[i].clean(tst_data)\n",
        "  \n",
        "  tr_vecs.append(vectorizers[i].vectorize(tr_data_clean))\n",
        "  tst_vecs.append(vectorizers[i].vectorize(tst_data_clean))\n",
        "  \n",
        "  classifiers[i].fit(tr_vecs[i], tr_labels)"
      ]
    },
    {
      "cell_type": "markdown",
      "metadata": {
        "colab_type": "text",
        "id": "AR6ebE9yb3FP"
      },
      "source": [
        "## Testing and plotting"
      ]
    },
    {
      "cell_type": "code",
      "execution_count": 8,
      "metadata": {
        "colab": {
          "base_uri": "https://localhost:8080/",
          "height": 1657
        },
        "colab_type": "code",
        "id": "9C4UQT0JRqrk",
        "outputId": "433378fb-4ea7-41c7-f1ab-69f48d3296d2"
      },
      "outputs": [
        {
          "data": {
            "image/png": "[encoded data removed]",
            "text/plain": [
              "<Figure size 432x288 with 2 Axes>"
            ]
          },
          "metadata": {
            "needs_background": "light"
          },
          "output_type": "display_data"
        },
        {
          "name": "stdout",
          "output_type": "stream",
          "text": [
            "Accuracy: 0.7615810674723061, Classifier: ABCMeta, Params: {'n_estimators': 30}\n"
          ]
        },
        {
          "data": {
            "image/png": "[encoded data removed]",
            "text/plain": [
              "<Figure size 432x288 with 2 Axes>"
            ]
          },
          "metadata": {
            "needs_background": "light"
          },
          "output_type": "display_data"
        },
        {
          "name": "stdout",
          "output_type": "stream",
          "text": [
            "Accuracy: 0.7696374622356495, Classifier: type, Params: {'penalty': 'l2', 'solver': 'sag'}\n"
          ]
        },
        {
          "data": {
            "image/png": "[encoded data removed]",
            "text/plain": [
              "<Figure size 432x288 with 2 Axes>"
            ]
          },
          "metadata": {
            "needs_background": "light"
          },
          "output_type": "display_data"
        },
        {
          "name": "stdout",
          "output_type": "stream",
          "text": [
            "Accuracy: 0.7411883182275931, Classifier: ABCMeta, Params: {'alpha': 5, 'fit_prior': True}\n"
          ]
        },
        {
          "name": "stderr",
          "output_type": "stream",
          "text": [
            "/Users/claradelandre/opt/anaconda3/envs/offenseval/lib/python3.8/site-packages/threadpoolctl.py:1214: RuntimeWarning: \n",
            "Found Intel OpenMP ('libiomp') and LLVM OpenMP ('libomp') loaded at\n",
            "the same time. Both libraries are known to be incompatible and this\n",
            "can cause random crashes or deadlocks on Linux when loaded in the\n",
            "same Python program.\n",
            "Using threadpoolctl may cause crashes or deadlocks. For more\n",
            "information and possible workarounds, please see\n",
            "    https://github.com/joblib/threadpoolctl/blob/master/multiple_openmp.md\n",
            "\n",
            "  warnings.warn(msg, RuntimeWarning)\n"
          ]
        },
        {
          "data": {
            "image/png": "[encoded data removed]",
            "text/plain": [
              "<Figure size 432x288 with 2 Axes>"
            ]
          },
          "metadata": {
            "needs_background": "light"
          },
          "output_type": "display_data"
        },
        {
          "name": "stdout",
          "output_type": "stream",
          "text": [
            "Accuracy: 0.6764853977844915, Classifier: ABCMeta, Params: {'n_neighbors': 5}\n"
          ]
        },
        {
          "data": {
            "image/png": "[encoded data removed]",
            "text/plain": [
              "<Figure size 432x288 with 2 Axes>"
            ]
          },
          "metadata": {
            "needs_background": "light"
          },
          "output_type": "display_data"
        },
        {
          "name": "stdout",
          "output_type": "stream",
          "text": [
            "Accuracy: 0.7391742195367573, Classifier: ABCMeta, Params: {'C': 10, 'kernel': 'rbf'}\n"
          ]
        },
        {
          "data": {
            "text/plain": [
              "[0.7615810674723061,\n",
              " 0.7696374622356495,\n",
              " 0.7411883182275931,\n",
              " 0.6764853977844915,\n",
              " 0.7391742195367573]"
            ]
          },
          "execution_count": 8,
          "metadata": {},
          "output_type": "execute_result"
        }
      ],
      "source": [
        "accs = []\n",
        "for i, clf in enumerate(classifiers):\n",
        "    acc = clf.test_and_plot(tst_vecs[i], tst_labels, class_num=2)\n",
        "    print(f\"Accuracy: {acc}, Classifier: {clf.classifier.__class__.__name__}, Params: {clf.params}\")\n",
        "    accs.append(acc)\n",
        "\n",
        "accs"
      ]
    },
    {
      "cell_type": "markdown",
      "metadata": {
        "colab_type": "text",
        "id": "p0Xe1xbGkrLU"
      },
      "source": [
        "# Subtask B"
      ]
    },
    {
      "cell_type": "markdown",
      "metadata": {
        "colab_type": "text",
        "id": "wMvWK7vRkz2K"
      },
      "source": [
        "## Reading data and splitting"
      ]
    },
    {
      "cell_type": "code",
      "execution_count": 9,
      "metadata": {
        "colab": {
          "base_uri": "https://localhost:8080/",
          "height": 34
        },
        "colab_type": "code",
        "id": "RgMwPKljkz2L",
        "outputId": "cde11448-7a22-40e0-86e9-029c1b9fd330"
      },
      "outputs": [
        {
          "name": "stderr",
          "output_type": "stream",
          "text": [
            "Reading Data: 13241it [00:00, 325434.97it/s]\n"
          ]
        }
      ],
      "source": [
        "dr_b = DataReader('./datasets/training-v1/offenseval-training-v1.tsv','B')\n",
        "data_b,labels_b = dr_b.get_labelled_data()\n",
        "data_b,labels_b = dr_b.shuffle(data_b,labels_b,'random')\n",
        "\n",
        "tr_data_b,tst_data_b,tr_labels_b,tst_labels_b = split(data_b,labels_b,test_size=0.3)"
      ]
    },
    {
      "cell_type": "markdown",
      "metadata": {
        "colab_type": "text",
        "id": "fta1SfiYkz2P"
      },
      "source": [
        "## Initializing objects"
      ]
    },
    {
      "cell_type": "code",
      "execution_count": 10,
      "metadata": {
        "colab": {},
        "colab_type": "code",
        "id": "oLyMw8DTlKnW"
      },
      "outputs": [],
      "source": [
        "preprocessors_b = [('lemmatize'),('remove_stopwords','lemmatize'),\n",
        "        ('remove_stopwords','stem'),('remove_stopwords','lemmatize'),\n",
        "        ('remove_stopwords','lemmatize'),('remove_stopwords')]\n",
        "\n",
        "vectorizers_b = ['count','count','count','tfidf','glove']\n",
        "\n",
        "classifiers_b = [('RandomForest',{'n_estimators':30}),\n",
        "               ('LogisticRegression',{'penalty':'l2','solver':'sag'}),\n",
        "              ('M-NaiveBayes',{'alpha':5,'fit_prior':True}),\n",
        "              ('KNN',{'n_neighbors':5}),('SVC',{'C':10,'kernel':'rbf'})]\n",
        "\n",
        "for i in range(len(vectorizers_b)):\n",
        "  preprocessors_b[i] = Preprocessor(preprocessors_b[i])\n",
        "  vectorizers_b[i] = Vectorizer(vectorizers_b[i])\n",
        "  classifiers_b[i] = Classifier(*classifiers_b[i])"
      ]
    },
    {
      "cell_type": "markdown",
      "metadata": {
        "colab_type": "text",
        "id": "4qIoMpYOkz2S"
      },
      "source": [
        "## Training classifiers"
      ]
    },
    {
      "cell_type": "code",
      "execution_count": 11,
      "metadata": {
        "colab": {
          "base_uri": "https://localhost:8080/",
          "height": 119
        },
        "colab_type": "code",
        "id": "o4M3f3SZkz2S",
        "outputId": "cfa938e8-7cf7-4e10-d32c-bf3c4ac6db0d"
      },
      "outputs": [
        {
          "name": "stderr",
          "output_type": "stream",
          "text": [
            "Tokenization: 3080it [00:00, 6084.04it/s]0<?, ?it/s]\n",
            "Lemmatization: 3080it [00:03, 996.21it/s] <00:00,  1.97it/s]\n",
            "Preprocessing: 100%|██████████| 2/2 [00:03<00:00,  1.80s/it]\n",
            "Tokenization: 1320it [00:00, 6625.84it/s]0<?, ?it/s]\n",
            "Lemmatization: 1320it [00:01, 1034.31it/s]<00:00,  4.99it/s]\n",
            "Preprocessing: 100%|██████████| 2/2 [00:01<00:00,  1.35it/s]\n",
            "Tokenization: 3080it [00:00, 6001.03it/s]0<?, ?it/s]\n",
            "Stopwords Removal: 3080it [00:00, 76940.46it/s]1,  1.94it/s]\n",
            "Lemmatization: 3080it [00:01, 1671.59it/s]\n",
            "Preprocessing: 100%|██████████| 3/3 [00:02<00:00,  1.25it/s]\n",
            "Tokenization: 1320it [00:00, 6092.70it/s]0<?, ?it/s]\n",
            "Stopwords Removal: 1320it [00:00, 73933.11it/s]0,  4.59it/s]\n",
            "Lemmatization: 1320it [00:00, 1758.19it/s]\n",
            "Preprocessing: 100%|██████████| 3/3 [00:00<00:00,  3.03it/s]\n",
            "/Users/claradelandre/opt/anaconda3/envs/offenseval/lib/python3.8/site-packages/sklearn/linear_model/_sag.py:350: ConvergenceWarning: The max_iter was reached which means the coef_ did not converge\n",
            "  warnings.warn(\n",
            "Tokenization: 3080it [00:00, 6129.32it/s]0<?, ?it/s]\n",
            "Stopwords Removal: 3080it [00:00, 74859.22it/s]1,  1.98it/s]\n",
            "Stemming: 3080it [00:00, 6420.80it/s]\n",
            "Preprocessing: 100%|██████████| 3/3 [00:01<00:00,  2.92it/s]\n",
            "Tokenization: 1320it [00:00, 6620.56it/s]0<?, ?it/s]\n",
            "Stopwords Removal: 1320it [00:00, 78829.08it/s]0,  4.98it/s]\n",
            "Stemming: 1320it [00:00, 6662.26it/s]\n",
            "Preprocessing: 100%|██████████| 3/3 [00:00<00:00,  7.15it/s]\n",
            "Tokenization: 3080it [00:00, 6362.07it/s]0<?, ?it/s]\n",
            "Stopwords Removal: 3080it [00:00, 77028.54it/s]0,  2.06it/s]\n",
            "Lemmatization: 3080it [00:01, 1766.15it/s]\n",
            "Preprocessing: 100%|██████████| 3/3 [00:02<00:00,  1.32it/s]\n",
            "Tokenization: 1320it [00:00, 6368.62it/s]0<?, ?it/s]\n",
            "Stopwords Removal: 1320it [00:00, 77310.04it/s]0,  4.79it/s]\n",
            "Lemmatization: 1320it [00:00, 1652.28it/s]\n",
            "Preprocessing: 100%|██████████| 3/3 [00:01<00:00,  2.91it/s]\n",
            "Tokenization: 3080it [00:00, 6212.50it/s]0<?, ?it/s]\n",
            "Stopwords Removal: 3080it [00:00, 77183.17it/s]0,  2.01it/s]\n",
            "Lemmatization: 3080it [00:01, 1806.51it/s]\n",
            "Preprocessing: 100%|██████████| 3/3 [00:02<00:00,  1.34it/s]\n",
            "Tokenization: 1320it [00:00, 6464.15it/s]0<?, ?it/s]\n",
            "Stopwords Removal: 1320it [00:00, 77116.21it/s]0,  4.87it/s]\n",
            "Lemmatization: 1320it [00:00, 1505.96it/s]\n",
            "Preprocessing: 100%|██████████| 3/3 [00:01<00:00,  2.72it/s]\n"
          ]
        },
        {
          "name": "stdout",
          "output_type": "stream",
          "text": [
            "\n",
            "Loading Glove Embeddings from api...\n"
          ]
        },
        {
          "name": "stderr",
          "output_type": "stream",
          "text": [
            "Vectorizing: 100%|██████████| 3080/3080 [00:00<00:00, 35197.47it/s]\n",
            "Finalizing: 100%|██████████| 3080/3080 [00:00<00:00, 4307.87it/s]\n"
          ]
        },
        {
          "name": "stdout",
          "output_type": "stream",
          "text": [
            "\n",
            "Loading Glove Embeddings from api...\n"
          ]
        },
        {
          "name": "stderr",
          "output_type": "stream",
          "text": [
            "Vectorizing: 100%|██████████| 1320/1320 [00:00<00:00, 45951.24it/s]\n",
            "Finalizing: 100%|██████████| 1320/1320 [00:00<00:00, 4222.80it/s]\n"
          ]
        }
      ],
      "source": [
        "tst_vecs_b = []\n",
        "tr_vecs_b = []\n",
        "for i in range(len(classifiers_b)):\n",
        "  tr_data_clean_b = preprocessors_b[i].clean(tr_data_b)\n",
        "  tst_data_clean_b = preprocessors_b[i].clean(tst_data_b)\n",
        "  \n",
        "  tr_vecs_b.append(vectorizers_b[i].vectorize(tr_data_clean_b))\n",
        "  tst_vecs_b.append(vectorizers_b[i].vectorize(tst_data_clean_b))\n",
        "  \n",
        "  classifiers_b[i].fit(tr_vecs_b[i],tr_labels_b)"
      ]
    },
    {
      "cell_type": "markdown",
      "metadata": {
        "colab_type": "text",
        "id": "7wi9silMkz2V"
      },
      "source": [
        "## Testing and plotting"
      ]
    },
    {
      "cell_type": "code",
      "execution_count": 12,
      "metadata": {
        "colab": {
          "base_uri": "https://localhost:8080/",
          "height": 1657
        },
        "colab_type": "code",
        "id": "btwyY0BDkz2W",
        "outputId": "8e13c071-edb5-4da1-9475-5c5b5d21f4e1"
      },
      "outputs": [
        {
          "data": {
            "image/png": "[encoded data removed]",
            "text/plain": [
              "<Figure size 432x288 with 2 Axes>"
            ]
          },
          "metadata": {
            "needs_background": "light"
          },
          "output_type": "display_data"
        },
        {
          "name": "stdout",
          "output_type": "stream",
          "text": [
            "0.8856060606060606 RandomForestClassifier {'n_estimators': 30}\n"
          ]
        },
        {
          "data": {
            "image/png": "[encoded data removed]",
            "text/plain": [
              "<Figure size 432x288 with 2 Axes>"
            ]
          },
          "metadata": {
            "needs_background": "light"
          },
          "output_type": "display_data"
        },
        {
          "name": "stdout",
          "output_type": "stream",
          "text": [
            "0.8757575757575757 LogisticRegression {'penalty': 'l2', 'solver': 'sag'}\n"
          ]
        },
        {
          "data": {
            "image/png": "[encoded data removed]",
            "text/plain": [
              "<Figure size 432x288 with 2 Axes>"
            ]
          },
          "metadata": {
            "needs_background": "light"
          },
          "output_type": "display_data"
        },
        {
          "name": "stdout",
          "output_type": "stream",
          "text": [
            "0.8856060606060606 MultinomialNB {'alpha': 5, 'fit_prior': True}\n"
          ]
        },
        {
          "data": {
            "image/png": "[encoded data removed]",
            "text/plain": [
              "<Figure size 432x288 with 2 Axes>"
            ]
          },
          "metadata": {
            "needs_background": "light"
          },
          "output_type": "display_data"
        },
        {
          "name": "stdout",
          "output_type": "stream",
          "text": [
            "0.8810606060606061 KNeighborsClassifier {'n_neighbors': 5}\n"
          ]
        },
        {
          "data": {
            "image/png": "[encoded data removed]",
            "text/plain": [
              "<Figure size 432x288 with 2 Axes>"
            ]
          },
          "metadata": {
            "needs_background": "light"
          },
          "output_type": "display_data"
        },
        {
          "name": "stdout",
          "output_type": "stream",
          "text": [
            "0.8810606060606061 SVC {'C': 10, 'kernel': 'rbf'}\n"
          ]
        },
        {
          "data": {
            "text/plain": [
              "[0.8856060606060606,\n",
              " 0.8757575757575757,\n",
              " 0.8856060606060606,\n",
              " 0.8810606060606061,\n",
              " 0.8810606060606061]"
            ]
          },
          "execution_count": 12,
          "metadata": {},
          "output_type": "execute_result"
        }
      ],
      "source": [
        "accs_b = []\n",
        "for i,clf in enumerate(classifiers_b):\n",
        "  acc = clf.test_and_plot(tst_vecs_b[i],tst_labels_b,class_num=2)\n",
        "  print(acc,clf.classifier.__name__,clf.params)\n",
        "  accs_b.append(acc)\n",
        "  \n",
        "accs_b"
      ]
    },
    {
      "cell_type": "markdown",
      "metadata": {
        "colab_type": "text",
        "id": "vQ_1HxhklyFF"
      },
      "source": [
        "# Subtask C"
      ]
    },
    {
      "cell_type": "markdown",
      "metadata": {
        "colab_type": "text",
        "id": "Ku0YPPgjlyFF"
      },
      "source": [
        "## Reading data and splitting"
      ]
    },
    {
      "cell_type": "code",
      "execution_count": 13,
      "metadata": {
        "colab": {
          "base_uri": "https://localhost:8080/",
          "height": 34
        },
        "colab_type": "code",
        "id": "C2MkuedIlyFG",
        "outputId": "a3119696-fbeb-4509-be3e-8e9f46ca36a2"
      },
      "outputs": [
        {
          "name": "stderr",
          "output_type": "stream",
          "text": [
            "Reading Data: 13241it [00:00, 320690.03it/s]\n"
          ]
        }
      ],
      "source": [
        "dr_c = DataReader('./datasets/training-v1/offenseval-training-v1.tsv','C')\n",
        "data_c,labels_c = dr_c.get_labelled_data()\n",
        "data_c,labels_c = dr_c.shuffle(data_c,labels_c,'random')\n",
        "\n",
        "tr_data_c,tst_data_c,tr_labels_c,tst_labels_c = split(data_c,labels_c,test_size=0.3)"
      ]
    },
    {
      "cell_type": "markdown",
      "metadata": {
        "colab_type": "text",
        "id": "SQyaJvqQlyFJ"
      },
      "source": [
        "## Initializing objects"
      ]
    },
    {
      "cell_type": "code",
      "execution_count": 14,
      "metadata": {
        "colab": {},
        "colab_type": "code",
        "id": "tjliRJSGlyFK"
      },
      "outputs": [],
      "source": [
        "preprocessors_c = [('lemmatize'),('remove_stopwords','lemmatize'),\n",
        "        ('remove_stopwords','stem'),('remove_stopwords','lemmatize'),\n",
        "        ('remove_stopwords','lemmatize'),('remove_stopwords')]\n",
        "\n",
        "vectorizers_c = ['count','count','count','tfidf','glove']\n",
        "\n",
        "classifiers_c = [('RandomForest',{'n_estimators':30}),\n",
        "               ('LogisticRegression',{'penalty':'l2','solver':'sag'}),\n",
        "              ('M-NaiveBayes',{'alpha':5,'fit_prior':True}),\n",
        "              ('KNN',{'n_neighbors':5}),('SVC',{'C':10,'kernel':'rbf'})]\n",
        "\n",
        "for i in range(len(vectorizers_c)):\n",
        "  preprocessors_c[i] = Preprocessor(preprocessors_c[i])\n",
        "  vectorizers_c[i] = Vectorizer(vectorizers_c[i])\n",
        "  classifiers_c[i] = Classifier(*classifiers_c[i])"
      ]
    },
    {
      "cell_type": "markdown",
      "metadata": {
        "colab_type": "text",
        "id": "ba_tow8qlyFT"
      },
      "source": [
        "## Training classifiers"
      ]
    },
    {
      "cell_type": "code",
      "execution_count": 15,
      "metadata": {
        "colab": {},
        "colab_type": "code",
        "id": "xYKl1wBZlyFU"
      },
      "outputs": [
        {
          "name": "stderr",
          "output_type": "stream",
          "text": [
            "Tokenization: 2713it [00:00, 5945.82it/s]0<?, ?it/s]\n",
            "Lemmatization: 2713it [00:02, 958.57it/s] <00:00,  2.18it/s]\n",
            "Preprocessing: 100%|██████████| 2/2 [00:03<00:00,  1.65s/it]\n",
            "Tokenization: 1163it [00:00, 6336.62it/s]0<?, ?it/s]\n",
            "Lemmatization: 1163it [00:01, 984.15it/s]0<00:00,  5.41it/s]\n",
            "Preprocessing: 100%|██████████| 2/2 [00:01<00:00,  1.46it/s]\n",
            "Tokenization: 2713it [00:00, 6260.44it/s]0<?, ?it/s]\n",
            "Stopwords Removal: 2713it [00:00, 78294.91it/s]0,  2.30it/s]\n",
            "Lemmatization: 2713it [00:01, 1780.43it/s]\n",
            "Preprocessing: 100%|██████████| 3/3 [00:01<00:00,  1.50it/s]\n",
            "Tokenization: 1163it [00:00, 6265.66it/s]0<?, ?it/s]\n",
            "Stopwords Removal: 1163it [00:00, 73551.00it/s]0,  5.35it/s]\n",
            "Lemmatization: 1163it [00:00, 1799.80it/s]\n",
            "Preprocessing: 100%|██████████| 3/3 [00:00<00:00,  3.52it/s]\n",
            "Tokenization: 2713it [00:00, 4984.41it/s]0<?, ?it/s]\n",
            "Stopwords Removal: 2713it [00:00, 71033.98it/s]1,  1.83it/s]\n",
            "Stemming: 2713it [00:00, 5216.54it/s]\n",
            "Preprocessing: 100%|██████████| 3/3 [00:01<00:00,  2.70it/s]\n",
            "Tokenization: 1163it [00:00, 5938.71it/s]0<?, ?it/s]\n",
            "Stopwords Removal: 1163it [00:00, 73043.27it/s]0,  5.07it/s]\n",
            "Stemming: 1163it [00:00, 6112.39it/s]\n",
            "Preprocessing: 100%|██████████| 3/3 [00:00<00:00,  7.36it/s]\n",
            "Tokenization: 2713it [00:00, 4652.08it/s]0<?, ?it/s]\n",
            "Stopwords Removal: 2713it [00:00, 69260.04it/s]1,  1.71it/s]\n",
            "Lemmatization: 2713it [00:01, 1680.40it/s]\n",
            "Preprocessing: 100%|██████████| 3/3 [00:02<00:00,  1.34it/s]\n",
            "Tokenization: 1163it [00:00, 5836.65it/s]0<?, ?it/s]\n",
            "Stopwords Removal: 1163it [00:00, 67385.59it/s]0,  4.98it/s]\n",
            "Lemmatization: 1163it [00:00, 1550.59it/s]\n",
            "Preprocessing: 100%|██████████| 3/3 [00:00<00:00,  3.08it/s]\n",
            "Tokenization: 2713it [00:00, 5359.90it/s]0<?, ?it/s]\n",
            "Stopwords Removal: 2713it [00:00, 72944.18it/s]1,  1.97it/s]\n",
            "Lemmatization: 2713it [00:01, 1699.24it/s]\n",
            "Preprocessing: 100%|██████████| 3/3 [00:02<00:00,  1.40it/s]\n",
            "Tokenization: 1163it [00:00, 6008.26it/s]0<?, ?it/s]\n",
            "Stopwords Removal: 1163it [00:00, 72804.52it/s]0,  5.14it/s]\n",
            "Lemmatization: 1163it [00:00, 1526.62it/s]\n",
            "Preprocessing: 100%|██████████| 3/3 [00:00<00:00,  3.07it/s]\n"
          ]
        },
        {
          "name": "stdout",
          "output_type": "stream",
          "text": [
            "\n",
            "Loading Glove Embeddings from api...\n"
          ]
        },
        {
          "name": "stderr",
          "output_type": "stream",
          "text": [
            "Vectorizing: 100%|██████████| 2713/2713 [00:00<00:00, 30641.16it/s]\n",
            "Finalizing: 100%|██████████| 2713/2713 [00:00<00:00, 4236.39it/s]\n"
          ]
        },
        {
          "name": "stdout",
          "output_type": "stream",
          "text": [
            "\n",
            "Loading Glove Embeddings from api...\n"
          ]
        },
        {
          "name": "stderr",
          "output_type": "stream",
          "text": [
            "Vectorizing: 100%|██████████| 1163/1163 [00:00<00:00, 40058.93it/s]\n",
            "Finalizing: 100%|██████████| 1163/1163 [00:00<00:00, 4193.37it/s]\n"
          ]
        }
      ],
      "source": [
        "tst_vecs_c = []\n",
        "tr_vecs_c = []\n",
        "for i in range(len(classifiers_c)):\n",
        "  tr_data_clean_c = preprocessors_c[i].clean(tr_data_c)\n",
        "  tst_data_clean_c = preprocessors_c[i].clean(tst_data_c)\n",
        "  \n",
        "  tr_vecs_c.append(vectorizers_c[i].vectorize(tr_data_clean_c))\n",
        "  tst_vecs_c.append(vectorizers_c[i].vectorize(tst_data_clean_c))\n",
        "  \n",
        "  classifiers_c[i].fit(tr_vecs_c[i],tr_labels_c)"
      ]
    },
    {
      "cell_type": "markdown",
      "metadata": {
        "colab_type": "text",
        "id": "2KaNrNoxlyFW"
      },
      "source": [
        "## Testing and plotting"
      ]
    },
    {
      "cell_type": "code",
      "execution_count": 16,
      "metadata": {
        "colab": {
          "base_uri": "https://localhost:8080/",
          "height": 1657
        },
        "colab_type": "code",
        "id": "_l3B4ocslyFZ",
        "outputId": "6e84a419-4f7b-4f81-f79d-6ce76e90c951"
      },
      "outputs": [
        {
          "data": {
            "image/png": "[encoded data removed]",
            "text/plain": [
              "<Figure size 432x288 with 2 Axes>"
            ]
          },
          "metadata": {
            "needs_background": "light"
          },
          "output_type": "display_data"
        },
        {
          "name": "stdout",
          "output_type": "stream",
          "text": [
            "0.6904557179707652 RandomForestClassifier {'n_estimators': 30}\n"
          ]
        },
        {
          "data": {
            "image/png": "[encoded data removed]",
            "text/plain": [
              "<Figure size 432x288 with 2 Axes>"
            ]
          },
          "metadata": {
            "needs_background": "light"
          },
          "output_type": "display_data"
        },
        {
          "name": "stdout",
          "output_type": "stream",
          "text": [
            "0.6552020636285468 LogisticRegression {'penalty': 'l2', 'solver': 'sag'}\n"
          ]
        },
        {
          "data": {
            "image/png": "[encoded data removed]",
            "text/plain": [
              "<Figure size 432x288 with 2 Axes>"
            ]
          },
          "metadata": {
            "needs_background": "light"
          },
          "output_type": "display_data"
        },
        {
          "name": "stdout",
          "output_type": "stream",
          "text": [
            "0.6517626827171109 MultinomialNB {'alpha': 5, 'fit_prior': True}\n"
          ]
        },
        {
          "data": {
            "image/png": "[encoded data removed]",
            "text/plain": [
              "<Figure size 432x288 with 2 Axes>"
            ]
          },
          "metadata": {
            "needs_background": "light"
          },
          "output_type": "display_data"
        },
        {
          "name": "stdout",
          "output_type": "stream",
          "text": [
            "0.6371453138435081 KNeighborsClassifier {'n_neighbors': 5}\n"
          ]
        },
        {
          "data": {
            "image/png": "[encoded data removed]",
            "text/plain": [
              "<Figure size 432x288 with 2 Axes>"
            ]
          },
          "metadata": {
            "needs_background": "light"
          },
          "output_type": "display_data"
        },
        {
          "name": "stdout",
          "output_type": "stream",
          "text": [
            "0.6388650042992261 SVC {'C': 10, 'kernel': 'rbf'}\n"
          ]
        },
        {
          "data": {
            "text/plain": [
              "[0.6904557179707652,\n",
              " 0.6552020636285468,\n",
              " 0.6517626827171109,\n",
              " 0.6371453138435081,\n",
              " 0.6388650042992261]"
            ]
          },
          "execution_count": 16,
          "metadata": {},
          "output_type": "execute_result"
        }
      ],
      "source": [
        "accs_c = []\n",
        "for i,clf in enumerate(classifiers_c):\n",
        "  acc = clf.test_and_plot(tst_vecs_c[i],tst_labels_c,class_num=3)\n",
        "  print(acc,clf.classifier.__name__,clf.params)\n",
        "  accs_c.append(acc)\n",
        "  \n",
        "accs_c"
      ]
    },
    {
      "cell_type": "markdown",
      "metadata": {
        "colab_type": "text",
        "id": "-GRp8Nqg1DmU"
      },
      "source": [
        "# Neural Nets"
      ]
    },
    {
      "cell_type": "markdown",
      "metadata": {
        "colab_type": "text",
        "id": "MnN7eexD1GTz"
      },
      "source": [
        "## Subtask A"
      ]
    },
    {
      "cell_type": "markdown",
      "metadata": {
        "colab_type": "text",
        "id": "kHvhq8X3HZBq"
      },
      "source": [
        "### Reading data and cleaning"
      ]
    },
    {
      "cell_type": "code",
      "execution_count": 17,
      "metadata": {
        "colab": {},
        "colab_type": "code",
        "id": "btbz4srU1KNh"
      },
      "outputs": [
        {
          "name": "stderr",
          "output_type": "stream",
          "text": [
            "Reading Data: 13241it [00:00, 323567.37it/s]\n",
            "Tokenization: 9268it [00:01, 6725.80it/s]0<?, ?it/s]\n",
            "Stopwords Removal: 9268it [00:00, 80120.39it/s]2,  1.38s/it]\n",
            "Lemmatization: 9268it [00:04, 2040.91it/s]<00:00,  1.57it/s]\n",
            "Preprocessing: 100%|██████████| 3/3 [00:06<00:00,  2.01s/it]\n",
            "Tokenization: 3972it [00:00, 6583.74it/s]0<?, ?it/s]\n",
            "Stopwords Removal: 3972it [00:00, 78285.84it/s]1,  1.65it/s]\n",
            "Lemmatization: 3972it [00:02, 1945.57it/s]\n",
            "Preprocessing: 100%|██████████| 3/3 [00:02<00:00,  1.11it/s]\n"
          ]
        },
        {
          "data": {
            "text/plain": [
              "array([[0, 0, 0, ..., 0, 0, 0],\n",
              "       [0, 0, 0, ..., 0, 0, 0],\n",
              "       [0, 0, 0, ..., 0, 0, 0],\n",
              "       ...,\n",
              "       [0, 0, 0, ..., 0, 0, 0],\n",
              "       [0, 0, 0, ..., 0, 0, 0],\n",
              "       [0, 0, 0, ..., 0, 0, 0]])"
            ]
          },
          "execution_count": 17,
          "metadata": {},
          "output_type": "execute_result"
        }
      ],
      "source": [
        "dr_nn = DataReader('./datasets/training-v1/offenseval-training-v1.tsv','A')\n",
        "data_nn,labels_nn = dr_nn.get_labelled_data()\n",
        "data_nn,labels_nn = dr_nn.shuffle(data_nn,labels_nn,'random')\n",
        "\n",
        "tr_data_nn,tst_data_nn,tr_labels_nn,tst_labels_nn = split(data_nn,labels_nn,test_size=0.3)\n",
        "\n",
        "prp = Preprocessor('remove_stopwords','lemmatize')\n",
        "tr_data_clean_nn = prp.clean(tr_data_nn)\n",
        "tst_data_clean_nn = prp.clean(tst_data_nn)\n",
        "\n",
        "vct = Vectorizer('count')\n",
        "vct.vectorize(tr_data_clean_nn)"
      ]
    },
    {
      "cell_type": "markdown",
      "metadata": {
        "colab_type": "text",
        "id": "mDBVwCX0GpV2"
      },
      "source": [
        "### Training LSTM"
      ]
    },
    {
      "cell_type": "code",
      "execution_count": 18,
      "metadata": {
        "colab": {
          "base_uri": "https://localhost:8080/",
          "height": 2329
        },
        "colab_type": "code",
        "id": "7DJNEe6117_a",
        "outputId": "a758a74c-176a-4f2b-8e80-42f72271a5d0"
      },
      "outputs": [
        {
          "name": "stderr",
          "output_type": "stream",
          "text": [
            "/Users/claradelandre/Desktop/EPFL/MA2/DeepLearning/Projet/DeepL-Breakers/DeepLearning.py:18: VisibleDeprecationWarning: Creating an ndarray from ragged nested sequences (which is a list-or-tuple of lists-or-tuples-or ndarrays with different lengths or shapes) is deprecated. If you meant to do this, you must specify 'dtype=object' when creating the ndarray\n",
            "  )\n"
          ]
        },
        {
          "name": "stdout",
          "output_type": "stream",
          "text": [
            "Epoch 1/60, Loss: 0.5633\n",
            "Epoch 2/60, Loss: 1.0176\n",
            "Epoch 3/60, Loss: 0.6960\n",
            "Epoch 4/60, Loss: 0.5561\n",
            "Epoch 5/60, Loss: 0.5855\n",
            "Epoch 6/60, Loss: 0.8133\n",
            "Epoch 7/60, Loss: 0.6883\n",
            "Epoch 8/60, Loss: 0.8133\n",
            "Epoch 9/60, Loss: 0.8133\n",
            "Epoch 10/60, Loss: 0.5633\n",
            "Epoch 11/60, Loss: 0.5633\n",
            "Epoch 12/60, Loss: 0.5633\n",
            "Epoch 13/60, Loss: 0.8133\n",
            "Epoch 14/60, Loss: 0.6883\n",
            "Epoch 15/60, Loss: 0.6883\n",
            "Epoch 16/60, Loss: 0.8133\n",
            "Epoch 17/60, Loss: 0.6883\n",
            "Epoch 18/60, Loss: 0.8133\n",
            "Epoch 19/60, Loss: 0.4383\n",
            "Epoch 20/60, Loss: 0.6883\n",
            "Epoch 21/60, Loss: 0.6883\n",
            "Epoch 22/60, Loss: 0.4383\n",
            "Epoch 23/60, Loss: 0.4383\n",
            "Epoch 24/60, Loss: 0.8133\n",
            "Epoch 25/60, Loss: 0.4383\n",
            "Epoch 26/60, Loss: 0.4383\n",
            "Epoch 27/60, Loss: 0.6883\n",
            "Epoch 28/60, Loss: 0.6883\n",
            "Epoch 29/60, Loss: 0.5633\n",
            "Epoch 30/60, Loss: 0.5633\n",
            "Epoch 31/60, Loss: 0.5633\n",
            "Epoch 32/60, Loss: 0.6883\n",
            "Epoch 33/60, Loss: 0.8133\n",
            "Epoch 34/60, Loss: 0.9383\n",
            "Epoch 35/60, Loss: 0.5633\n",
            "Epoch 36/60, Loss: 0.6883\n",
            "Epoch 37/60, Loss: 0.5633\n",
            "Epoch 38/60, Loss: 0.9383\n",
            "Epoch 39/60, Loss: 0.6883\n",
            "Epoch 40/60, Loss: 0.6883\n",
            "Epoch 41/60, Loss: 0.5633\n",
            "Epoch 42/60, Loss: 0.8133\n",
            "Epoch 43/60, Loss: 0.5633\n",
            "Epoch 44/60, Loss: 0.8133\n",
            "Epoch 45/60, Loss: 0.5633\n",
            "Epoch 46/60, Loss: 0.5633\n",
            "Epoch 47/60, Loss: 0.4383\n",
            "Epoch 48/60, Loss: 0.4383\n",
            "Epoch 49/60, Loss: 0.5633\n",
            "Epoch 50/60, Loss: 0.6883\n",
            "Epoch 51/60, Loss: 0.6883\n",
            "Epoch 52/60, Loss: 0.6883\n",
            "Epoch 53/60, Loss: 0.4383\n",
            "Epoch 54/60, Loss: 0.5633\n",
            "Epoch 55/60, Loss: 0.4383\n",
            "Epoch 56/60, Loss: 0.5633\n",
            "Epoch 57/60, Loss: 0.8133\n",
            "Epoch 58/60, Loss: 0.9383\n",
            "Epoch 59/60, Loss: 0.5633\n",
            "Epoch 60/60, Loss: 0.8133\n"
          ]
        }
      ],
      "source": [
        "lstm = DeepLearner(tr_data_clean_nn,tr_labels_nn,vocab_length=vct.vocab_length,model_type='LSTM')\n",
        "lstm.train(epochs=60)"
      ]
    },
    {
      "cell_type": "markdown",
      "metadata": {
        "colab_type": "text",
        "id": "QVcvpSnKGrPr"
      },
      "source": [
        "### Testing LSTM and plotting"
      ]
    },
    {
      "cell_type": "code",
      "execution_count": 19,
      "metadata": {
        "colab": {
          "base_uri": "https://localhost:8080/",
          "height": 345
        },
        "colab_type": "code",
        "id": "vXn2cQ-PBlWL",
        "outputId": "44a97efb-7be8-42c6-dd6f-5ab512f0374b"
      },
      "outputs": [
        {
          "data": {
            "image/png": "[encoded data removed]",
            "text/plain": [
              "<Figure size 432x288 with 2 Axes>"
            ]
          },
          "metadata": {
            "needs_background": "light"
          },
          "output_type": "display_data"
        },
        {
          "name": "stdout",
          "output_type": "stream",
          "text": [
            "Test Loss: 0.6524, Accuracy: 66.09%\n",
            "LSTM 0.6608761548995972\n"
          ]
        }
      ],
      "source": [
        "acc = lstm.test_and_plot(tst_data_clean_nn,tst_labels_nn)\n",
        "print('LSTM',acc)"
      ]
    },
    {
      "cell_type": "markdown",
      "metadata": {
        "colab_type": "text",
        "id": "tt61VYU1GytO"
      },
      "source": [
        "### Training CNN"
      ]
    },
    {
      "cell_type": "code",
      "execution_count": 20,
      "metadata": {
        "colab": {
          "base_uri": "https://localhost:8080/",
          "height": 799
        },
        "colab_type": "code",
        "id": "sfVRBuc618iG",
        "outputId": "6dd8a76a-a8f4-40e9-d99a-7eaaa44339eb"
      },
      "outputs": [
        {
          "name": "stderr",
          "output_type": "stream",
          "text": [
            "/Users/claradelandre/Desktop/EPFL/MA2/DeepLearning/Projet/DeepL-Breakers/DeepLearning.py:18: VisibleDeprecationWarning: Creating an ndarray from ragged nested sequences (which is a list-or-tuple of lists-or-tuples-or ndarrays with different lengths or shapes) is deprecated. If you meant to do this, you must specify 'dtype=object' when creating the ndarray\n",
            "  )\n"
          ]
        },
        {
          "name": "stdout",
          "output_type": "stream",
          "text": [
            "Epoch 1/10, Loss: 0.6883\n",
            "Epoch 2/10, Loss: 0.6883\n",
            "Epoch 3/10, Loss: 1.0633\n",
            "Epoch 4/10, Loss: 0.3133\n",
            "Epoch 5/10, Loss: 0.6883\n",
            "Epoch 6/10, Loss: 0.4383\n",
            "Epoch 7/10, Loss: 0.8133\n",
            "Epoch 8/10, Loss: 0.5633\n",
            "Epoch 9/10, Loss: 0.5633\n",
            "Epoch 10/10, Loss: 0.5633\n"
          ]
        }
      ],
      "source": [
        "cnn = DeepLearner(tr_data_clean_nn,tr_labels_nn,vocab_length=vct.vocab_length,model_type='CNN')\n",
        "cnn.train(epochs=10)"
      ]
    },
    {
      "cell_type": "markdown",
      "metadata": {
        "colab_type": "text",
        "id": "JwLPYYEhG0z4"
      },
      "source": [
        "### Testing CNN and plotting"
      ]
    },
    {
      "cell_type": "code",
      "execution_count": 21,
      "metadata": {
        "colab": {
          "base_uri": "https://localhost:8080/",
          "height": 345
        },
        "colab_type": "code",
        "id": "0Q1pj6yb-LEx",
        "outputId": "a3744285-c9d5-44a2-e88f-3b71f0ac7e1b"
      },
      "outputs": [
        {
          "data": {
            "image/png": "[encoded data removed]",
            "text/plain": [
              "<Figure size 432x288 with 2 Axes>"
            ]
          },
          "metadata": {
            "needs_background": "light"
          },
          "output_type": "display_data"
        },
        {
          "name": "stdout",
          "output_type": "stream",
          "text": [
            "Test Loss: 0.6524, Accuracy: 66.09%\n",
            "CNN 0.6608761548995972\n"
          ]
        }
      ],
      "source": [
        "acc = cnn.test_and_plot(tst_data_clean_nn,tst_labels_nn)\n",
        "print('CNN',acc)"
      ]
    },
    {
      "cell_type": "markdown",
      "metadata": {
        "colab_type": "text",
        "id": "IydzgOJF5uI-"
      },
      "source": [
        "## Subtask B"
      ]
    },
    {
      "cell_type": "markdown",
      "metadata": {
        "colab_type": "text",
        "id": "y4iFyXuCHW6x"
      },
      "source": [
        "### Reading data and cleaning"
      ]
    },
    {
      "cell_type": "code",
      "execution_count": 22,
      "metadata": {
        "colab": {},
        "colab_type": "code",
        "id": "teobMyll5uI-"
      },
      "outputs": [
        {
          "name": "stderr",
          "output_type": "stream",
          "text": [
            "Reading Data: 13241it [00:00, 339205.62it/s]\n",
            "Tokenization: 3080it [00:00, 6386.57it/s]0<?, ?it/s]\n",
            "Stopwords Removal: 3080it [00:00, 80126.88it/s]0,  2.07it/s]\n",
            "Lemmatization: 3080it [00:01, 1726.66it/s]\n",
            "Preprocessing: 100%|██████████| 3/3 [00:02<00:00,  1.30it/s]\n",
            "Tokenization: 1320it [00:00, 6333.64it/s]0<?, ?it/s]\n",
            "Stopwords Removal: 1320it [00:00, 76339.99it/s]0,  4.77it/s]\n",
            "Lemmatization: 1320it [00:00, 1794.55it/s]\n",
            "Preprocessing: 100%|██████████| 3/3 [00:00<00:00,  3.10it/s]\n"
          ]
        },
        {
          "data": {
            "text/plain": [
              "array([[0, 0, 0, ..., 0, 0, 0],\n",
              "       [0, 0, 0, ..., 0, 0, 0],\n",
              "       [0, 0, 0, ..., 0, 0, 0],\n",
              "       ...,\n",
              "       [0, 0, 0, ..., 0, 0, 0],\n",
              "       [0, 0, 0, ..., 0, 0, 0],\n",
              "       [0, 0, 0, ..., 0, 0, 0]])"
            ]
          },
          "execution_count": 22,
          "metadata": {},
          "output_type": "execute_result"
        }
      ],
      "source": [
        "dr_nn_b = DataReader('./datasets/training-v1/offenseval-training-v1.tsv','B')\n",
        "data_nn_b,labels_nn_b = dr_nn_b.get_labelled_data()\n",
        "data_nn_b,labels_nn_b = dr_nn_b.shuffle(data_nn_b,labels_nn_b,'random')\n",
        "\n",
        "tr_data_nn_b,tst_data_nn_b,tr_labels_nn_b,tst_labels_nn_b = split(data_nn_b,labels_nn_b,test_size=0.3)\n",
        "\n",
        "prp = Preprocessor('remove_stopwords','lemmatize')\n",
        "tr_data_clean_nn_b = prp.clean(tr_data_nn_b)\n",
        "tst_data_clean_nn_b = prp.clean(tst_data_nn_b)\n",
        "\n",
        "vct = Vectorizer('count')\n",
        "vct.vectorize(tr_data_clean_nn_b)"
      ]
    },
    {
      "cell_type": "markdown",
      "metadata": {
        "colab_type": "text",
        "id": "nKk1wEJ2G3rh"
      },
      "source": [
        "### Training LSTM"
      ]
    },
    {
      "cell_type": "code",
      "execution_count": 23,
      "metadata": {
        "colab": {
          "base_uri": "https://localhost:8080/",
          "height": 2329
        },
        "colab_type": "code",
        "id": "Uw4a9N0o5uJG",
        "outputId": "73a0dc82-a166-4f65-ba6f-0fdb4fc04c48"
      },
      "outputs": [
        {
          "name": "stderr",
          "output_type": "stream",
          "text": [
            "/Users/claradelandre/Desktop/EPFL/MA2/DeepLearning/Projet/DeepL-Breakers/DeepLearning.py:18: VisibleDeprecationWarning: Creating an ndarray from ragged nested sequences (which is a list-or-tuple of lists-or-tuples-or ndarrays with different lengths or shapes) is deprecated. If you meant to do this, you must specify 'dtype=object' when creating the ndarray\n",
            "  )\n"
          ]
        },
        {
          "name": "stdout",
          "output_type": "stream",
          "text": [
            "Epoch 1/60, Loss: 0.3689\n",
            "Epoch 2/60, Loss: 0.4244\n",
            "Epoch 3/60, Loss: 0.4244\n",
            "Epoch 4/60, Loss: 0.4799\n",
            "Epoch 5/60, Loss: 0.3688\n",
            "Epoch 6/60, Loss: 0.4244\n",
            "Epoch 7/60, Loss: 0.4799\n",
            "Epoch 8/60, Loss: 0.3688\n",
            "Epoch 9/60, Loss: 0.4244\n",
            "Epoch 10/60, Loss: 0.4799\n",
            "Epoch 11/60, Loss: 0.4244\n",
            "Epoch 12/60, Loss: 0.3688\n",
            "Epoch 13/60, Loss: 0.4244\n",
            "Epoch 14/60, Loss: 0.4244\n",
            "Epoch 15/60, Loss: 0.3688\n",
            "Epoch 16/60, Loss: 0.3133\n",
            "Epoch 17/60, Loss: 0.4244\n",
            "Epoch 18/60, Loss: 0.4799\n",
            "Epoch 19/60, Loss: 0.3688\n",
            "Epoch 20/60, Loss: 0.3688\n",
            "Epoch 21/60, Loss: 0.3688\n",
            "Epoch 22/60, Loss: 0.4244\n",
            "Epoch 23/60, Loss: 0.3688\n",
            "Epoch 24/60, Loss: 0.3688\n",
            "Epoch 25/60, Loss: 0.5910\n",
            "Epoch 26/60, Loss: 0.4244\n",
            "Epoch 27/60, Loss: 0.3688\n",
            "Epoch 28/60, Loss: 0.4244\n",
            "Epoch 29/60, Loss: 0.5355\n",
            "Epoch 30/60, Loss: 0.5355\n",
            "Epoch 31/60, Loss: 0.4799\n",
            "Epoch 32/60, Loss: 0.5355\n",
            "Epoch 33/60, Loss: 0.3133\n",
            "Epoch 34/60, Loss: 0.4799\n",
            "Epoch 35/60, Loss: 0.5355\n",
            "Epoch 36/60, Loss: 0.3688\n",
            "Epoch 37/60, Loss: 0.3688\n",
            "Epoch 38/60, Loss: 0.5910\n",
            "Epoch 39/60, Loss: 0.4799\n",
            "Epoch 40/60, Loss: 0.3688\n",
            "Epoch 41/60, Loss: 0.4244\n",
            "Epoch 42/60, Loss: 0.4244\n",
            "Epoch 43/60, Loss: 0.3133\n",
            "Epoch 44/60, Loss: 0.4244\n",
            "Epoch 45/60, Loss: 0.4799\n",
            "Epoch 46/60, Loss: 0.5910\n",
            "Epoch 47/60, Loss: 0.4244\n",
            "Epoch 48/60, Loss: 0.4799\n",
            "Epoch 49/60, Loss: 0.3133\n",
            "Epoch 50/60, Loss: 0.4244\n",
            "Epoch 51/60, Loss: 0.4244\n",
            "Epoch 52/60, Loss: 0.4244\n",
            "Epoch 53/60, Loss: 0.3688\n",
            "Epoch 54/60, Loss: 0.3688\n",
            "Epoch 55/60, Loss: 0.3688\n",
            "Epoch 56/60, Loss: 0.5910\n",
            "Epoch 57/60, Loss: 0.4244\n",
            "Epoch 58/60, Loss: 0.3688\n",
            "Epoch 59/60, Loss: 0.3688\n",
            "Epoch 60/60, Loss: 0.3688\n"
          ]
        }
      ],
      "source": [
        "lstm_b = DeepLearner(tr_data_clean_nn_b,tr_labels_nn_b,vocab_length=vct.vocab_length,model_type='LSTM')\n",
        "lstm_b.train(epochs=60)"
      ]
    },
    {
      "cell_type": "markdown",
      "metadata": {
        "colab_type": "text",
        "id": "lar239WoG588"
      },
      "source": [
        "### Testing LSTM and plotting"
      ]
    },
    {
      "cell_type": "code",
      "execution_count": 24,
      "metadata": {
        "colab": {
          "base_uri": "https://localhost:8080/",
          "height": 345
        },
        "colab_type": "code",
        "id": "bnFzlqvZGIv2",
        "outputId": "467e1a95-97da-4fd5-b017-2a3b90f38b75"
      },
      "outputs": [
        {
          "data": {
            "image/png": "[encoded data removed]",
            "text/plain": [
              "<Figure size 432x288 with 2 Axes>"
            ]
          },
          "metadata": {
            "needs_background": "light"
          },
          "output_type": "display_data"
        },
        {
          "name": "stdout",
          "output_type": "stream",
          "text": [
            "Test Loss: 0.4390, Accuracy: 87.42%\n",
            "LSTM 0.8742424249649048\n"
          ]
        }
      ],
      "source": [
        "acc = lstm_b.test_and_plot(tst_data_clean_nn_b,tst_labels_nn_b)\n",
        "print('LSTM',acc)"
      ]
    },
    {
      "cell_type": "markdown",
      "metadata": {
        "colab_type": "text",
        "id": "b4GRCnO0G8fC"
      },
      "source": [
        "### Training CNN"
      ]
    },
    {
      "cell_type": "code",
      "execution_count": 25,
      "metadata": {
        "colab": {
          "base_uri": "https://localhost:8080/",
          "height": 799
        },
        "colab_type": "code",
        "id": "9Y3LjCS95uJJ",
        "outputId": "23880f76-229f-424c-9c92-ae3a5239e010"
      },
      "outputs": [
        {
          "name": "stderr",
          "output_type": "stream",
          "text": [
            "/Users/claradelandre/Desktop/EPFL/MA2/DeepLearning/Projet/DeepL-Breakers/DeepLearning.py:18: VisibleDeprecationWarning: Creating an ndarray from ragged nested sequences (which is a list-or-tuple of lists-or-tuples-or ndarrays with different lengths or shapes) is deprecated. If you meant to do this, you must specify 'dtype=object' when creating the ndarray\n",
            "  )\n"
          ]
        },
        {
          "name": "stdout",
          "output_type": "stream",
          "text": [
            "Epoch 1/10, Loss: 0.4244\n",
            "Epoch 2/10, Loss: 0.4244\n",
            "Epoch 3/10, Loss: 0.3688\n",
            "Epoch 4/10, Loss: 0.5910\n",
            "Epoch 5/10, Loss: 0.3688\n",
            "Epoch 6/10, Loss: 0.4244\n",
            "Epoch 7/10, Loss: 0.4799\n",
            "Epoch 8/10, Loss: 0.4244\n",
            "Epoch 9/10, Loss: 0.4244\n",
            "Epoch 10/10, Loss: 0.4799\n"
          ]
        }
      ],
      "source": [
        "cnn_b = DeepLearner(tr_data_clean_nn_b,tr_labels_nn_b,vocab_length=vct.vocab_length,model_type='CNN')\n",
        "cnn_b.train(epochs=10)"
      ]
    },
    {
      "cell_type": "markdown",
      "metadata": {
        "colab_type": "text",
        "id": "rDrIH-qBG_VR"
      },
      "source": [
        "### Testing CNN and plotting"
      ]
    },
    {
      "cell_type": "code",
      "execution_count": 26,
      "metadata": {
        "colab": {
          "base_uri": "https://localhost:8080/",
          "height": 345
        },
        "colab_type": "code",
        "id": "gr2Z2DrEGK5R",
        "outputId": "d5d7257e-f7a3-4258-c72b-d2f954761825"
      },
      "outputs": [
        {
          "data": {
            "image/png": "[encoded data removed]",
            "text/plain": [
              "<Figure size 432x288 with 2 Axes>"
            ]
          },
          "metadata": {
            "needs_background": "light"
          },
          "output_type": "display_data"
        },
        {
          "name": "stdout",
          "output_type": "stream",
          "text": [
            "Test Loss: 0.4390, Accuracy: 87.42%\n",
            "CNN 0.8742424249649048\n"
          ]
        }
      ],
      "source": [
        "acc = cnn_b.test_and_plot(tst_data_clean_nn_b,tst_labels_nn_b)\n",
        "print('CNN',acc)"
      ]
    },
    {
      "cell_type": "markdown",
      "metadata": {
        "colab_type": "text",
        "id": "B9JEFada6NkO"
      },
      "source": [
        "## Subtask C"
      ]
    },
    {
      "cell_type": "markdown",
      "metadata": {
        "colab_type": "text",
        "id": "UkR-jWKPHSeI"
      },
      "source": [
        "### Reading data and cleaning"
      ]
    },
    {
      "cell_type": "code",
      "execution_count": 27,
      "metadata": {
        "colab": {},
        "colab_type": "code",
        "id": "-dxUOw646NkP"
      },
      "outputs": [
        {
          "name": "stderr",
          "output_type": "stream",
          "text": [
            "Reading Data: 13241it [00:00, 316234.46it/s]\n",
            "Tokenization: 2713it [00:00, 5918.68it/s]0<?, ?it/s]\n",
            "Stopwords Removal: 2713it [00:00, 77352.86it/s]0,  2.17it/s]\n",
            "Lemmatization: 2713it [00:01, 1740.96it/s]\n",
            "Preprocessing: 100%|██████████| 3/3 [00:02<00:00,  1.46it/s]\n",
            "Tokenization: 1163it [00:00, 5997.23it/s]0<?, ?it/s]\n",
            "Stopwords Removal: 1163it [00:00, 75550.22it/s]0,  5.11it/s]\n",
            "Lemmatization: 1163it [00:00, 1799.23it/s]\n",
            "Preprocessing: 100%|██████████| 3/3 [00:00<00:00,  3.48it/s]\n"
          ]
        },
        {
          "data": {
            "text/plain": [
              "array([[0, 0, 0, ..., 0, 0, 0],\n",
              "       [0, 0, 0, ..., 0, 0, 0],\n",
              "       [0, 0, 0, ..., 0, 0, 0],\n",
              "       ...,\n",
              "       [0, 0, 0, ..., 0, 0, 0],\n",
              "       [0, 0, 0, ..., 0, 0, 0],\n",
              "       [0, 0, 0, ..., 0, 0, 0]])"
            ]
          },
          "execution_count": 27,
          "metadata": {},
          "output_type": "execute_result"
        }
      ],
      "source": [
        "dr_nn_c = DataReader('./datasets/training-v1/offenseval-training-v1.tsv','C')\n",
        "data_nn_c,labels_nn_c = dr_nn_c.get_labelled_data()\n",
        "data_nn_c,labels_nn_c = dr_nn_c.shuffle(data_nn_c,labels_nn_c,'random')\n",
        "\n",
        "tr_data_nn_c,tst_data_nn_c,tr_labels_nn_c,tst_labels_nn_c = split(data_nn_c,labels_nn_c,test_size=0.3)\n",
        "\n",
        "prp = Preprocessor('remove_stopwords','lemmatize')\n",
        "tr_data_clean_nn_c = prp.clean(tr_data_nn_c)\n",
        "tst_data_clean_nn_c = prp.clean(tst_data_nn_c)\n",
        "\n",
        "vct = Vectorizer('count')\n",
        "vct.vectorize(tr_data_clean_nn_c)"
      ]
    },
    {
      "cell_type": "markdown",
      "metadata": {
        "colab_type": "text",
        "id": "V4vHk7nXHF4Y"
      },
      "source": [
        "### Training LSTM"
      ]
    },
    {
      "cell_type": "code",
      "execution_count": 28,
      "metadata": {
        "colab": {
          "base_uri": "https://localhost:8080/",
          "height": 2329
        },
        "colab_type": "code",
        "id": "7UXR5pG66NkR",
        "outputId": "3150a3de-6eee-40e4-8b06-52e7a9235456"
      },
      "outputs": [
        {
          "name": "stderr",
          "output_type": "stream",
          "text": [
            "/Users/claradelandre/Desktop/EPFL/MA2/DeepLearning/Projet/DeepL-Breakers/DeepLearning.py:18: VisibleDeprecationWarning: Creating an ndarray from ragged nested sequences (which is a list-or-tuple of lists-or-tuples-or ndarrays with different lengths or shapes) is deprecated. If you meant to do this, you must specify 'dtype=object' when creating the ndarray\n",
            "  )\n"
          ]
        },
        {
          "name": "stdout",
          "output_type": "stream",
          "text": [
            "Epoch 1/60, Loss: 0.9511\n",
            "Epoch 2/60, Loss: 0.9514\n",
            "Epoch 3/60, Loss: 0.7229\n",
            "Epoch 4/60, Loss: 0.9514\n",
            "Epoch 5/60, Loss: 0.7514\n",
            "Epoch 6/60, Loss: 0.8943\n",
            "Epoch 7/60, Loss: 0.9800\n",
            "Epoch 8/60, Loss: 0.9229\n",
            "Epoch 9/60, Loss: 0.9229\n",
            "Epoch 10/60, Loss: 0.8943\n",
            "Epoch 11/60, Loss: 1.0086\n",
            "Epoch 12/60, Loss: 0.8372\n",
            "Epoch 13/60, Loss: 1.0086\n",
            "Epoch 14/60, Loss: 0.9514\n",
            "Epoch 15/60, Loss: 0.7800\n",
            "Epoch 16/60, Loss: 0.9514\n",
            "Epoch 17/60, Loss: 0.9514\n",
            "Epoch 18/60, Loss: 1.0086\n",
            "Epoch 19/60, Loss: 0.9800\n",
            "Epoch 20/60, Loss: 0.8657\n",
            "Epoch 21/60, Loss: 0.8657\n",
            "Epoch 22/60, Loss: 0.8086\n",
            "Epoch 23/60, Loss: 0.8657\n",
            "Epoch 24/60, Loss: 0.9229\n",
            "Epoch 25/60, Loss: 0.9229\n",
            "Epoch 26/60, Loss: 0.9514\n",
            "Epoch 27/60, Loss: 0.8943\n",
            "Epoch 28/60, Loss: 0.9514\n",
            "Epoch 29/60, Loss: 0.8657\n",
            "Epoch 30/60, Loss: 0.8657\n",
            "Epoch 31/60, Loss: 1.0086\n",
            "Epoch 32/60, Loss: 0.8372\n",
            "Epoch 33/60, Loss: 0.9800\n",
            "Epoch 34/60, Loss: 1.0086\n",
            "Epoch 35/60, Loss: 0.8657\n",
            "Epoch 36/60, Loss: 0.8086\n",
            "Epoch 37/60, Loss: 1.0086\n",
            "Epoch 38/60, Loss: 0.9514\n",
            "Epoch 39/60, Loss: 0.9514\n",
            "Epoch 40/60, Loss: 0.9800\n",
            "Epoch 41/60, Loss: 1.0372\n",
            "Epoch 42/60, Loss: 0.9514\n",
            "Epoch 43/60, Loss: 0.8657\n",
            "Epoch 44/60, Loss: 0.8943\n",
            "Epoch 45/60, Loss: 1.0372\n",
            "Epoch 46/60, Loss: 0.8657\n",
            "Epoch 47/60, Loss: 0.8657\n",
            "Epoch 48/60, Loss: 0.7800\n",
            "Epoch 49/60, Loss: 0.8943\n",
            "Epoch 50/60, Loss: 0.8657\n",
            "Epoch 51/60, Loss: 0.9229\n",
            "Epoch 52/60, Loss: 0.8943\n",
            "Epoch 53/60, Loss: 0.9514\n",
            "Epoch 54/60, Loss: 0.8657\n",
            "Epoch 55/60, Loss: 1.0086\n",
            "Epoch 56/60, Loss: 0.8372\n",
            "Epoch 57/60, Loss: 0.8372\n",
            "Epoch 58/60, Loss: 0.8943\n",
            "Epoch 59/60, Loss: 0.9229\n",
            "Epoch 60/60, Loss: 0.7514\n"
          ]
        }
      ],
      "source": [
        "lstm_c = DeepLearner(tr_data_clean_nn_c,tr_labels_nn_c,vocab_length=vct.vocab_length,model_type='LSTM')\n",
        "lstm_c.train(epochs=60)"
      ]
    },
    {
      "cell_type": "markdown",
      "metadata": {
        "colab_type": "text",
        "id": "PQhFvMAwHHww"
      },
      "source": [
        "### Testing LSTM and plotting"
      ]
    },
    {
      "cell_type": "code",
      "execution_count": 29,
      "metadata": {
        "colab": {
          "base_uri": "https://localhost:8080/",
          "height": 345
        },
        "colab_type": "code",
        "id": "tsO4GUnXHDbF",
        "outputId": "b9013848-a5ba-4006-b6ad-baeef445a617"
      },
      "outputs": [
        {
          "data": {
            "image/png": "[encoded data removed]",
            "text/plain": [
              "<Figure size 432x288 with 2 Axes>"
            ]
          },
          "metadata": {
            "needs_background": "light"
          },
          "output_type": "display_data"
        },
        {
          "name": "stdout",
          "output_type": "stream",
          "text": [
            "Test Loss: 0.9453, Accuracy: 60.62%\n",
            "LSTM 0.6061908602714539\n"
          ]
        }
      ],
      "source": [
        "acc = lstm_c.test_and_plot(tst_data_clean_nn_c,tst_labels_nn_c,3)\n",
        "print('LSTM',acc)"
      ]
    },
    {
      "cell_type": "markdown",
      "metadata": {
        "colab_type": "text",
        "id": "zbznpOehHL-8"
      },
      "source": [
        "### Training CNN"
      ]
    },
    {
      "cell_type": "code",
      "execution_count": 30,
      "metadata": {
        "colab": {
          "base_uri": "https://localhost:8080/",
          "height": 799
        },
        "colab_type": "code",
        "id": "-qXiiUM_6NkU",
        "outputId": "7af7480c-6a9c-4b8c-8465-bb2b4bad1171"
      },
      "outputs": [
        {
          "name": "stderr",
          "output_type": "stream",
          "text": [
            "/Users/claradelandre/Desktop/EPFL/MA2/DeepLearning/Projet/DeepL-Breakers/DeepLearning.py:18: VisibleDeprecationWarning: Creating an ndarray from ragged nested sequences (which is a list-or-tuple of lists-or-tuples-or ndarrays with different lengths or shapes) is deprecated. If you meant to do this, you must specify 'dtype=object' when creating the ndarray\n",
            "  )\n"
          ]
        },
        {
          "name": "stdout",
          "output_type": "stream",
          "text": [
            "Epoch 1/10, Loss: 1.0943\n",
            "Epoch 2/10, Loss: 0.8372\n",
            "Epoch 3/10, Loss: 0.8657\n",
            "Epoch 4/10, Loss: 0.9229\n",
            "Epoch 5/10, Loss: 0.9800\n",
            "Epoch 6/10, Loss: 0.9514\n",
            "Epoch 7/10, Loss: 0.9229\n",
            "Epoch 8/10, Loss: 0.8943\n",
            "Epoch 9/10, Loss: 0.8657\n",
            "Epoch 10/10, Loss: 0.8657\n"
          ]
        }
      ],
      "source": [
        "cnn_c = DeepLearner(tr_data_clean_nn_c,tr_labels_nn_c,vocab_length=vct.vocab_length,model_type='CNN')\n",
        "cnn_c.train(epochs=10)"
      ]
    },
    {
      "cell_type": "markdown",
      "metadata": {
        "colab_type": "text",
        "id": "21JpwRsLHNSm"
      },
      "source": [
        "### Testing CNN and plotting"
      ]
    },
    {
      "cell_type": "code",
      "execution_count": 31,
      "metadata": {
        "colab": {
          "base_uri": "https://localhost:8080/",
          "height": 345
        },
        "colab_type": "code",
        "id": "oUJkJvi4HD-i",
        "outputId": "fa08c8ae-7efa-49c1-c312-8afb39539b8a"
      },
      "outputs": [
        {
          "data": {
            "image/png": "[encoded data removed]",
            "text/plain": [
              "<Figure size 432x288 with 2 Axes>"
            ]
          },
          "metadata": {
            "needs_background": "light"
          },
          "output_type": "display_data"
        },
        {
          "name": "stdout",
          "output_type": "stream",
          "text": [
            "Test Loss: 0.9453, Accuracy: 60.62%\n",
            "CNN 0.6061908602714539\n"
          ]
        }
      ],
      "source": [
        "acc = cnn_c.test_and_plot(tst_data_clean_nn_c,tst_labels_nn_c,3)\n",
        "print('CNN',acc)"
      ]
    },
    {
      "cell_type": "markdown",
      "metadata": {},
      "source": [
        "# SAVE THE MODELS"
      ]
    },
    {
      "cell_type": "code",
      "execution_count": null,
      "metadata": {},
      "outputs": [],
      "source": [
        "for i, clf in enumerate(classifiers):\n",
        "    clf.save(f\"saved_models/subtaskA_model_{i}.joblib\")\n",
        "\n",
        "for i, clf in enumerate(classifiers_b):\n",
        "    clf.save(f\"saved_models/subtaskB_model_{i}.joblib\")\n",
        "\n",
        "for i, clf in enumerate(classifiers_c):\n",
        "    clf.save(f\"saved_models/subtaskC_model_{i}.joblib\")\n",
        "\n",
        "lstm.save(\"saved_models/subtaskA_lstm.pth\")\n",
        "cnn.save(\"saved_models/subtaskA_cnn.pth\")\n",
        "\n",
        "lstm_b.save(\"saved_models/subtaskB_lstm.pth\")\n",
        "cnn_b.save(\"saved_models/subtaskB_cnn.pth\")\n",
        "\n",
        "lstm_c.save(\"saved_models/subtaskC_lstm.pth\")\n",
        "cnn_c.save(\"saved_models/subtaskC_cnn.pth\")"
      ]
    }
  ],
  "metadata": {
    "colab": {
      "collapsed_sections": [],
      "include_colab_link": true,
      "name": "offenseval.ipynb",
      "provenance": [],
      "version": "0.3.2"
    },
    "kernelspec": {
      "display_name": "offenseval",
      "language": "python",
      "name": "python3"
    },
    "language_info": {
      "codemirror_mode": {
        "name": "ipython",
        "version": 3
      },
      "file_extension": ".py",
      "mimetype": "text/x-python",
      "name": "python",
      "nbconvert_exporter": "python",
      "pygments_lexer": "ipython3",
      "version": "3.8.20"
    }
  },
  "nbformat": 4,
  "nbformat_minor": 0
}
